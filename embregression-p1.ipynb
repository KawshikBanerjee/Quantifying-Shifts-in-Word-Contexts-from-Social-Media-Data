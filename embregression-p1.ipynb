{
 "cells": [
  {
   "cell_type": "code",
   "execution_count": 1,
   "id": "63bb0d8f",
   "metadata": {
    "_execution_state": "idle",
    "_uuid": "051d70d956493feee0c6d64651c6a088724dca2a",
    "execution": {
     "iopub.execute_input": "2023-04-27T04:19:08.833446Z",
     "iopub.status.busy": "2023-04-27T04:19:08.830429Z",
     "iopub.status.idle": "2023-04-27T04:24:36.456955Z",
     "shell.execute_reply": "2023-04-27T04:24:36.454365Z"
    },
    "papermill": {
     "duration": 327.638812,
     "end_time": "2023-04-27T04:24:36.459745",
     "exception": false,
     "start_time": "2023-04-27T04:19:08.820933",
     "status": "completed"
    },
    "tags": []
   },
   "outputs": [
    {
     "name": "stderr",
     "output_type": "stream",
     "text": [
      "Loading required package: usethis\n",
      "\n",
      "Downloading GitHub repo prodriguezsosa/conText@HEAD\n",
      "\n"
     ]
    },
    {
     "name": "stdout",
     "output_type": "stream",
     "text": [
      "cli          (3.6.0      -> 3.6.1     ) [CRAN]\n",
      "rlang        (1.0.6      -> 1.1.0     ) [CRAN]\n",
      "vctrs        (0.5.2      -> 0.6.2     ) [CRAN]\n",
      "tibble       (3.1.8      -> 3.2.1     ) [CRAN]\n",
      "pillar       (1.8.1      -> 1.9.0     ) [CRAN]\n",
      "RcppArmad... (0.12.0.1.0 -> 0.12.2.0.0) [CRAN]\n",
      "gtable       (0.3.1      -> 0.3.3     ) [CRAN]\n",
      "dplyr        (1.1.0      -> 1.1.2     ) [CRAN]\n",
      "SnowballC    (0.7.0      -> 0.7.1     ) [CRAN]\n",
      "ggplot2      (3.4.1      -> 3.4.2     ) [CRAN]\n",
      "quanteda     (3.2.4      -> 3.3.0     ) [CRAN]\n"
     ]
    },
    {
     "name": "stderr",
     "output_type": "stream",
     "text": [
      "Installing 11 packages: cli, rlang, vctrs, tibble, pillar, RcppArmadillo, gtable, dplyr, SnowballC, ggplot2, quanteda\n",
      "\n",
      "Installing packages into ‘/usr/local/lib/R/site-library’\n",
      "(as ‘lib’ is unspecified)\n",
      "\n",
      "Warning message in i.p(...):\n",
      "“installation of package ‘cli’ had non-zero exit status”\n",
      "Warning message in i.p(...):\n",
      "“installation of package ‘rlang’ had non-zero exit status”\n",
      "Warning message in i.p(...):\n",
      "“installation of package ‘vctrs’ had non-zero exit status”\n",
      "Warning message in i.p(...):\n",
      "“installation of package ‘gtable’ had non-zero exit status”\n",
      "Warning message in i.p(...):\n",
      "“installation of package ‘pillar’ had non-zero exit status”\n",
      "Warning message in i.p(...):\n",
      "“installation of package ‘tibble’ had non-zero exit status”\n",
      "Warning message in i.p(...):\n",
      "“installation of package ‘dplyr’ had non-zero exit status”\n",
      "Warning message in i.p(...):\n",
      "“installation of package ‘ggplot2’ had non-zero exit status”\n"
     ]
    },
    {
     "name": "stdout",
     "output_type": "stream",
     "text": [
      "\u001b[36m──\u001b[39m \u001b[36mR CMD build\u001b[39m \u001b[36m─────────────────────────────────────────────────────────────────\u001b[39m\n",
      "* checking for file ‘/tmp/Rtmpk2gsvh/remotese4810a1e0/prodriguezsosa-conText-523f736/DESCRIPTION’ ... OK\n",
      "* preparing ‘conText’:\n",
      "* checking DESCRIPTION meta-information ... OK\n",
      "* checking for LF line-endings in source and make files and shell scripts\n",
      "* checking for empty or unneeded directories\n",
      "* building ‘conText_1.4.3.tar.gz’\n",
      "\n"
     ]
    },
    {
     "name": "stderr",
     "output_type": "stream",
     "text": [
      "Installing package into ‘/usr/local/lib/R/site-library’\n",
      "(as ‘lib’ is unspecified)\n",
      "\n"
     ]
    }
   ],
   "source": [
    "library(devtools)\n",
    "devtools::install_github(\"prodriguezsosa/conText\")"
   ]
  },
  {
   "cell_type": "code",
   "execution_count": 2,
   "id": "2dfa1533",
   "metadata": {
    "execution": {
     "iopub.execute_input": "2023-04-27T04:24:36.531712Z",
     "iopub.status.busy": "2023-04-27T04:24:36.495033Z",
     "iopub.status.idle": "2023-04-27T04:24:39.288264Z",
     "shell.execute_reply": "2023-04-27T04:24:39.286485Z"
    },
    "papermill": {
     "duration": 2.825108,
     "end_time": "2023-04-27T04:24:39.291365",
     "exception": false,
     "start_time": "2023-04-27T04:24:36.466257",
     "status": "completed"
    },
    "tags": []
   },
   "outputs": [
    {
     "name": "stderr",
     "output_type": "stream",
     "text": [
      "Package version: 3.3.0\n",
      "Unicode version: 13.0\n",
      "ICU version: 66.1\n",
      "\n",
      "Parallel computing: 4 of 4 threads used.\n",
      "\n",
      "See https://quanteda.io for tutorials and examples.\n",
      "\n",
      "\n",
      "Attaching package: ‘dplyr’\n",
      "\n",
      "\n",
      "The following objects are masked from ‘package:stats’:\n",
      "\n",
      "    filter, lag\n",
      "\n",
      "\n",
      "The following objects are masked from ‘package:base’:\n",
      "\n",
      "    intersect, setdiff, setequal, union\n",
      "\n",
      "\n",
      "\n",
      "Attaching package: ‘hunspell’\n",
      "\n",
      "\n",
      "The following object is masked from ‘package:quanteda’:\n",
      "\n",
      "    dictionary\n",
      "\n",
      "\n",
      "── \u001b[1mAttaching core tidyverse packages\u001b[22m ──────────────────────── tidyverse 2.0.0 ──\n",
      "\u001b[32m✔\u001b[39m \u001b[34mforcats  \u001b[39m 1.0.0     \u001b[32m✔\u001b[39m \u001b[34mreadr    \u001b[39m 2.1.4\n",
      "\u001b[32m✔\u001b[39m \u001b[34mggplot2  \u001b[39m 3.4.1     \u001b[32m✔\u001b[39m \u001b[34mstringr  \u001b[39m 1.5.0\n",
      "\u001b[32m✔\u001b[39m \u001b[34mlubridate\u001b[39m 1.9.2     \u001b[32m✔\u001b[39m \u001b[34mtibble   \u001b[39m 3.1.8\n",
      "\u001b[32m✔\u001b[39m \u001b[34mpurrr    \u001b[39m 1.0.1     \u001b[32m✔\u001b[39m \u001b[34mtidyr    \u001b[39m 1.3.0\n",
      "── \u001b[1mConflicts\u001b[22m ────────────────────────────────────────── tidyverse_conflicts() ──\n",
      "\u001b[31m✖\u001b[39m \u001b[34mdplyr\u001b[39m::\u001b[32mfilter()\u001b[39m masks \u001b[34mstats\u001b[39m::filter()\n",
      "\u001b[31m✖\u001b[39m \u001b[34mdplyr\u001b[39m::\u001b[32mlag()\u001b[39m    masks \u001b[34mstats\u001b[39m::lag()\n",
      "\u001b[36mℹ\u001b[39m Use the conflicted package (\u001b[3m\u001b[34m<http://conflicted.r-lib.org/>\u001b[39m\u001b[23m) to force all conflicts to become errors\n"
     ]
    }
   ],
   "source": [
    "library(conText)\n",
    "library(quanteda)\n",
    "library(dplyr)\n",
    "library(text2vec)\n",
    "library(hunspell)\n",
    "library(tidyverse)\n",
    "# library(magrittr)"
   ]
  },
  {
   "cell_type": "code",
   "execution_count": 3,
   "id": "4f9deed8",
   "metadata": {
    "execution": {
     "iopub.execute_input": "2023-04-27T04:24:39.309395Z",
     "iopub.status.busy": "2023-04-27T04:24:39.307279Z",
     "iopub.status.idle": "2023-04-27T04:25:57.709275Z",
     "shell.execute_reply": "2023-04-27T04:25:57.707445Z"
    },
    "papermill": {
     "duration": 78.413942,
     "end_time": "2023-04-27T04:25:57.712218",
     "exception": false,
     "start_time": "2023-04-27T04:24:39.298276",
     "status": "completed"
    },
    "tags": []
   },
   "outputs": [],
   "source": [
    "data <- readRDS(\"/kaggle/input/twitter-data-top-500-university/tweet_all_blm_test_30Mar23.rds\")\n",
    "data <- data[(data$UniSerial <= 300) & (data$MainHandle == 1), ]"
   ]
  },
  {
   "cell_type": "code",
   "execution_count": 4,
   "id": "c5648094",
   "metadata": {
    "execution": {
     "iopub.execute_input": "2023-04-27T04:25:57.732276Z",
     "iopub.status.busy": "2023-04-27T04:25:57.730197Z",
     "iopub.status.idle": "2023-04-27T04:25:58.217170Z",
     "shell.execute_reply": "2023-04-27T04:25:58.215313Z"
    },
    "papermill": {
     "duration": 0.498909,
     "end_time": "2023-04-27T04:25:58.219699",
     "exception": false,
     "start_time": "2023-04-27T04:25:57.720790",
     "status": "completed"
    },
    "tags": []
   },
   "outputs": [],
   "source": [
    "data$AfterBLM <- \"No\"\n",
    "data$AfterBLM[data$year <= 2018 ] <- \"No\"\n",
    "data$AfterBLM[data$year > 2018 ] <- \"Yes\"\n",
    "\n",
    "data$IsTop <- \"No\"\n",
    "data$IsTop[data$UniSerial <= 100 ] <- \"Yes\"\n",
    "data$IsTop[data$UniSerial > 100 ] <- \"No\""
   ]
  },
  {
   "cell_type": "code",
   "execution_count": 5,
   "id": "c074aabd",
   "metadata": {
    "execution": {
     "iopub.execute_input": "2023-04-27T04:25:58.237483Z",
     "iopub.status.busy": "2023-04-27T04:25:58.235884Z",
     "iopub.status.idle": "2023-04-27T04:25:58.273412Z",
     "shell.execute_reply": "2023-04-27T04:25:58.271629Z"
    },
    "papermill": {
     "duration": 0.049649,
     "end_time": "2023-04-27T04:25:58.276096",
     "exception": false,
     "start_time": "2023-04-27T04:25:58.226447",
     "status": "completed"
    },
    "tags": []
   },
   "outputs": [],
   "source": [
    "data <- data %>% select(Tweet, AfterBLM)"
   ]
  },
  {
   "cell_type": "code",
   "execution_count": 6,
   "id": "e541f812",
   "metadata": {
    "execution": {
     "iopub.execute_input": "2023-04-27T04:25:58.295068Z",
     "iopub.status.busy": "2023-04-27T04:25:58.293376Z",
     "iopub.status.idle": "2023-04-27T04:25:58.311272Z",
     "shell.execute_reply": "2023-04-27T04:25:58.309146Z"
    },
    "papermill": {
     "duration": 0.03108,
     "end_time": "2023-04-27T04:25:58.313852",
     "exception": false,
     "start_time": "2023-04-27T04:25:58.282772",
     "status": "completed"
    },
    "tags": []
   },
   "outputs": [
    {
     "name": "stdout",
     "output_type": "stream",
     "text": [
      "[1] 3906616       2\n"
     ]
    }
   ],
   "source": [
    "print(dim(data))"
   ]
  },
  {
   "cell_type": "code",
   "execution_count": 7,
   "id": "c5f14a0d",
   "metadata": {
    "execution": {
     "iopub.execute_input": "2023-04-27T04:25:58.331273Z",
     "iopub.status.busy": "2023-04-27T04:25:58.329660Z",
     "iopub.status.idle": "2023-04-27T04:48:59.084455Z",
     "shell.execute_reply": "2023-04-27T04:48:59.081410Z"
    },
    "papermill": {
     "duration": 1380.776194,
     "end_time": "2023-04-27T04:48:59.096925",
     "exception": false,
     "start_time": "2023-04-27T04:25:58.320731",
     "status": "completed"
    },
    "tags": []
   },
   "outputs": [
    {
     "data": {
      "text/html": [
       "<table class=\"dataframe\">\n",
       "<caption>A matrix: 2 × 6 of type dbl</caption>\n",
       "<thead>\n",
       "\t<tr><th></th><th scope=col>used</th><th scope=col>(Mb)</th><th scope=col>gc trigger</th><th scope=col>(Mb)</th><th scope=col>max used</th><th scope=col>(Mb)</th></tr>\n",
       "</thead>\n",
       "<tbody>\n",
       "\t<tr><th scope=row>Ncells</th><td> 10877560</td><td>581.0</td><td> 21163952</td><td>1130.3</td><td> 19535268</td><td>1043.3</td></tr>\n",
       "\t<tr><th scope=row>Vcells</th><td>101668584</td><td>775.7</td><td>308387142</td><td>2352.9</td><td>481604024</td><td>3674.4</td></tr>\n",
       "</tbody>\n",
       "</table>\n"
      ],
      "text/latex": [
       "A matrix: 2 × 6 of type dbl\n",
       "\\begin{tabular}{r|llllll}\n",
       "  & used & (Mb) & gc trigger & (Mb) & max used & (Mb)\\\\\n",
       "\\hline\n",
       "\tNcells &  10877560 & 581.0 &  21163952 & 1130.3 &  19535268 & 1043.3\\\\\n",
       "\tVcells & 101668584 & 775.7 & 308387142 & 2352.9 & 481604024 & 3674.4\\\\\n",
       "\\end{tabular}\n"
      ],
      "text/markdown": [
       "\n",
       "A matrix: 2 × 6 of type dbl\n",
       "\n",
       "| <!--/--> | used | (Mb) | gc trigger | (Mb) | max used | (Mb) |\n",
       "|---|---|---|---|---|---|---|\n",
       "| Ncells |  10877560 | 581.0 |  21163952 | 1130.3 |  19535268 | 1043.3 |\n",
       "| Vcells | 101668584 | 775.7 | 308387142 | 2352.9 | 481604024 | 3674.4 |\n",
       "\n"
      ],
      "text/plain": [
       "       used      (Mb)  gc trigger (Mb)   max used  (Mb)  \n",
       "Ncells  10877560 581.0  21163952  1130.3  19535268 1043.3\n",
       "Vcells 101668584 775.7 308387142  2352.9 481604024 3674.4"
      ]
     },
     "metadata": {},
     "output_type": "display_data"
    },
    {
     "data": {
      "text/html": [
       "<table class=\"dataframe\">\n",
       "<caption>A matrix: 2 × 6 of type dbl</caption>\n",
       "<thead>\n",
       "\t<tr><th></th><th scope=col>used</th><th scope=col>(Mb)</th><th scope=col>gc trigger</th><th scope=col>(Mb)</th><th scope=col>max used</th><th scope=col>(Mb)</th></tr>\n",
       "</thead>\n",
       "<tbody>\n",
       "\t<tr><th scope=row>Ncells</th><td> 18435311</td><td> 984.6</td><td>  42319900</td><td>2260.2</td><td>  42319900</td><td>2260.2</td></tr>\n",
       "\t<tr><th scope=row>Vcells</th><td>146633664</td><td>1118.8</td><td>1274299056</td><td>9722.2</td><td>1106731395</td><td>8443.7</td></tr>\n",
       "</tbody>\n",
       "</table>\n"
      ],
      "text/latex": [
       "A matrix: 2 × 6 of type dbl\n",
       "\\begin{tabular}{r|llllll}\n",
       "  & used & (Mb) & gc trigger & (Mb) & max used & (Mb)\\\\\n",
       "\\hline\n",
       "\tNcells &  18435311 &  984.6 &   42319900 & 2260.2 &   42319900 & 2260.2\\\\\n",
       "\tVcells & 146633664 & 1118.8 & 1274299056 & 9722.2 & 1106731395 & 8443.7\\\\\n",
       "\\end{tabular}\n"
      ],
      "text/markdown": [
       "\n",
       "A matrix: 2 × 6 of type dbl\n",
       "\n",
       "| <!--/--> | used | (Mb) | gc trigger | (Mb) | max used | (Mb) |\n",
       "|---|---|---|---|---|---|---|\n",
       "| Ncells |  18435311 |  984.6 |   42319900 | 2260.2 |   42319900 | 2260.2 |\n",
       "| Vcells | 146633664 | 1118.8 | 1274299056 | 9722.2 | 1106731395 | 8443.7 |\n",
       "\n"
      ],
      "text/plain": [
       "       used      (Mb)   gc trigger (Mb)   max used   (Mb)  \n",
       "Ncells  18435311  984.6   42319900 2260.2   42319900 2260.2\n",
       "Vcells 146633664 1118.8 1274299056 9722.2 1106731395 8443.7"
      ]
     },
     "metadata": {},
     "output_type": "display_data"
    },
    {
     "data": {
      "text/html": [
       "<table class=\"dataframe\">\n",
       "<caption>A matrix: 2 × 6 of type dbl</caption>\n",
       "<thead>\n",
       "\t<tr><th></th><th scope=col>used</th><th scope=col>(Mb)</th><th scope=col>gc trigger</th><th scope=col>(Mb)</th><th scope=col>max used</th><th scope=col>(Mb)</th></tr>\n",
       "</thead>\n",
       "<tbody>\n",
       "\t<tr><th scope=row>Ncells</th><td> 22342570</td><td>1193.3</td><td>  42319900</td><td>2260.2</td><td>  42319900</td><td>2260.2</td></tr>\n",
       "\t<tr><th scope=row>Vcells</th><td>184232486</td><td>1405.6</td><td>1019439245</td><td>7777.8</td><td>1106731395</td><td>8443.7</td></tr>\n",
       "</tbody>\n",
       "</table>\n"
      ],
      "text/latex": [
       "A matrix: 2 × 6 of type dbl\n",
       "\\begin{tabular}{r|llllll}\n",
       "  & used & (Mb) & gc trigger & (Mb) & max used & (Mb)\\\\\n",
       "\\hline\n",
       "\tNcells &  22342570 & 1193.3 &   42319900 & 2260.2 &   42319900 & 2260.2\\\\\n",
       "\tVcells & 184232486 & 1405.6 & 1019439245 & 7777.8 & 1106731395 & 8443.7\\\\\n",
       "\\end{tabular}\n"
      ],
      "text/markdown": [
       "\n",
       "A matrix: 2 × 6 of type dbl\n",
       "\n",
       "| <!--/--> | used | (Mb) | gc trigger | (Mb) | max used | (Mb) |\n",
       "|---|---|---|---|---|---|---|\n",
       "| Ncells |  22342570 | 1193.3 |   42319900 | 2260.2 |   42319900 | 2260.2 |\n",
       "| Vcells | 184232486 | 1405.6 | 1019439245 | 7777.8 | 1106731395 | 8443.7 |\n",
       "\n"
      ],
      "text/plain": [
       "       used      (Mb)   gc trigger (Mb)   max used   (Mb)  \n",
       "Ncells  22342570 1193.3   42319900 2260.2   42319900 2260.2\n",
       "Vcells 184232486 1405.6 1019439245 7777.8 1106731395 8443.7"
      ]
     },
     "metadata": {},
     "output_type": "display_data"
    },
    {
     "data": {
      "text/html": [
       "<table class=\"dataframe\">\n",
       "<caption>A matrix: 2 × 6 of type dbl</caption>\n",
       "<thead>\n",
       "\t<tr><th></th><th scope=col>used</th><th scope=col>(Mb)</th><th scope=col>gc trigger</th><th scope=col>(Mb)</th><th scope=col>max used</th><th scope=col>(Mb)</th></tr>\n",
       "</thead>\n",
       "<tbody>\n",
       "\t<tr><th scope=row>Ncells</th><td> 22354528</td><td>1193.9</td><td> 42319900</td><td>2260.2</td><td>  42319900</td><td>2260.2</td></tr>\n",
       "\t<tr><th scope=row>Vcells</th><td>184469786</td><td>1407.4</td><td>815551396</td><td>6222.2</td><td>1106731395</td><td>8443.7</td></tr>\n",
       "</tbody>\n",
       "</table>\n"
      ],
      "text/latex": [
       "A matrix: 2 × 6 of type dbl\n",
       "\\begin{tabular}{r|llllll}\n",
       "  & used & (Mb) & gc trigger & (Mb) & max used & (Mb)\\\\\n",
       "\\hline\n",
       "\tNcells &  22354528 & 1193.9 &  42319900 & 2260.2 &   42319900 & 2260.2\\\\\n",
       "\tVcells & 184469786 & 1407.4 & 815551396 & 6222.2 & 1106731395 & 8443.7\\\\\n",
       "\\end{tabular}\n"
      ],
      "text/markdown": [
       "\n",
       "A matrix: 2 × 6 of type dbl\n",
       "\n",
       "| <!--/--> | used | (Mb) | gc trigger | (Mb) | max used | (Mb) |\n",
       "|---|---|---|---|---|---|---|\n",
       "| Ncells |  22354528 | 1193.9 |  42319900 | 2260.2 |   42319900 | 2260.2 |\n",
       "| Vcells | 184469786 | 1407.4 | 815551396 | 6222.2 | 1106731395 | 8443.7 |\n",
       "\n"
      ],
      "text/plain": [
       "       used      (Mb)   gc trigger (Mb)   max used   (Mb)  \n",
       "Ncells  22354528 1193.9  42319900  2260.2   42319900 2260.2\n",
       "Vcells 184469786 1407.4 815551396  6222.2 1106731395 8443.7"
      ]
     },
     "metadata": {},
     "output_type": "display_data"
    },
    {
     "data": {
      "text/html": [
       "<table class=\"dataframe\">\n",
       "<caption>A matrix: 2 × 6 of type dbl</caption>\n",
       "<thead>\n",
       "\t<tr><th></th><th scope=col>used</th><th scope=col>(Mb)</th><th scope=col>gc trigger</th><th scope=col>(Mb)</th><th scope=col>max used</th><th scope=col>(Mb)</th></tr>\n",
       "</thead>\n",
       "<tbody>\n",
       "\t<tr><th scope=row>Ncells</th><td> 26261185</td><td>1402.5</td><td> 42319900</td><td>2260.2</td><td>  42319900</td><td>2260.2</td></tr>\n",
       "\t<tr><th scope=row>Vcells</th><td>218621801</td><td>1668.0</td><td>652441117</td><td>4977.8</td><td>1106731395</td><td>8443.7</td></tr>\n",
       "</tbody>\n",
       "</table>\n"
      ],
      "text/latex": [
       "A matrix: 2 × 6 of type dbl\n",
       "\\begin{tabular}{r|llllll}\n",
       "  & used & (Mb) & gc trigger & (Mb) & max used & (Mb)\\\\\n",
       "\\hline\n",
       "\tNcells &  26261185 & 1402.5 &  42319900 & 2260.2 &   42319900 & 2260.2\\\\\n",
       "\tVcells & 218621801 & 1668.0 & 652441117 & 4977.8 & 1106731395 & 8443.7\\\\\n",
       "\\end{tabular}\n"
      ],
      "text/markdown": [
       "\n",
       "A matrix: 2 × 6 of type dbl\n",
       "\n",
       "| <!--/--> | used | (Mb) | gc trigger | (Mb) | max used | (Mb) |\n",
       "|---|---|---|---|---|---|---|\n",
       "| Ncells |  26261185 | 1402.5 |  42319900 | 2260.2 |   42319900 | 2260.2 |\n",
       "| Vcells | 218621801 | 1668.0 | 652441117 | 4977.8 | 1106731395 | 8443.7 |\n",
       "\n"
      ],
      "text/plain": [
       "       used      (Mb)   gc trigger (Mb)   max used   (Mb)  \n",
       "Ncells  26261185 1402.5  42319900  2260.2   42319900 2260.2\n",
       "Vcells 218621801 1668.0 652441117  4977.8 1106731395 8443.7"
      ]
     },
     "metadata": {},
     "output_type": "display_data"
    }
   ],
   "source": [
    "# Pre processing \n",
    "\n",
    "# tokenize corpus removing unnecessary (i.e. semantically uninformative) elements\n",
    "corp <- corpus(data, text_field = \"Tweet\")\n",
    "gc()\n",
    "\n",
    "toks <- tokens(corp, \n",
    "               remove_punct=T, \n",
    "               remove_symbols=T, \n",
    "               remove_numbers=T, \n",
    "               remove_separators=T, \n",
    "               remove_url=T, \n",
    "               verbose=F)\n",
    "gc()\n",
    "\n",
    "toks_nostop <- tokens_select(toks, \n",
    "                             pattern = c(stopwords(\"en\")),\n",
    "                             selection = \"remove\", \n",
    "                             min_nchar=3)\n",
    "gc()\n",
    "\n",
    "# only use features that appear at least 5 times in the corpus\n",
    "feats <- dfm(toks_nostop, \n",
    "             tolower=T, \n",
    "             verbose = FALSE) %>% dfm_trim(min_termfreq = 5) %>% featnames()\n",
    "gc()\n",
    "\n",
    "# leave the pads so that non-adjacent words will not become adjacent\n",
    "toks_nostop_feats <- tokens_select(toks_nostop, \n",
    "                                   feats, \n",
    "                                   padding = TRUE)\n",
    "saveRDS(toks_nostop_feats, \"/kaggle/working/tweet_thesis_toks_nostop_feats.rds\")\n",
    "gc()"
   ]
  },
  {
   "cell_type": "code",
   "execution_count": 8,
   "id": "327dda2f",
   "metadata": {
    "execution": {
     "iopub.execute_input": "2023-04-27T04:48:59.199324Z",
     "iopub.status.busy": "2023-04-27T04:48:59.197723Z",
     "iopub.status.idle": "2023-04-27T04:48:59.211459Z",
     "shell.execute_reply": "2023-04-27T04:48:59.209532Z"
    },
    "papermill": {
     "duration": 0.104033,
     "end_time": "2023-04-27T04:48:59.213958",
     "exception": false,
     "start_time": "2023-04-27T04:48:59.109925",
     "status": "completed"
    },
    "tags": []
   },
   "outputs": [],
   "source": [
    "# target <- c(\"black\")\n",
    "\n",
    "# target_toks <- tokens_context(x = toks_nostop_feats, \n",
    "#                               pattern = target, \n",
    "#                               window = 6L)"
   ]
  },
  {
   "cell_type": "code",
   "execution_count": 9,
   "id": "bf05896b",
   "metadata": {
    "execution": {
     "iopub.execute_input": "2023-04-27T04:48:59.236739Z",
     "iopub.status.busy": "2023-04-27T04:48:59.235024Z",
     "iopub.status.idle": "2023-04-27T04:49:02.117295Z",
     "shell.execute_reply": "2023-04-27T04:49:02.115238Z"
    },
    "papermill": {
     "duration": 2.897974,
     "end_time": "2023-04-27T04:49:02.119919",
     "exception": false,
     "start_time": "2023-04-27T04:48:59.221945",
     "status": "completed"
    },
    "tags": []
   },
   "outputs": [],
   "source": [
    "# load pretrained models \n",
    "\n",
    "glove_model = readRDS(\"/kaggle/input/glovepretrained-embrgrsn/local_glove.rds\")\n",
    "local_transform <- readRDS(\"/kaggle/input/glovepretrained-embrgrsn/local_transform.rds\")"
   ]
  },
  {
   "cell_type": "code",
   "execution_count": 10,
   "id": "0846ba8a",
   "metadata": {
    "execution": {
     "iopub.execute_input": "2023-04-27T04:49:02.139800Z",
     "iopub.status.busy": "2023-04-27T04:49:02.138175Z",
     "iopub.status.idle": "2023-04-27T04:56:46.063862Z",
     "shell.execute_reply": "2023-04-27T04:56:46.061936Z"
    },
    "papermill": {
     "duration": 463.960643,
     "end_time": "2023-04-27T04:56:46.088662",
     "exception": false,
     "start_time": "2023-04-27T04:49:02.128019",
     "status": "completed"
    },
    "tags": []
   },
   "outputs": [
    {
     "name": "stdout",
     "output_type": "stream",
     "text": [
      "   coefficient normed.estimate   std.error  lower.ci  upper.ci p.value\n",
      "1 AfterBLM_Yes       0.5289023 0.008072018 0.5163721 0.5414778       0\n"
     ]
    }
   ],
   "source": [
    "# embedding regression model\n",
    "\n",
    "set.seed(2023L)\n",
    "model_target <- conText(formula = \"black\" ~ AfterBLM,\n",
    "                  data = toks_nostop_feats,\n",
    "                  pre_trained = glove_model,\n",
    "                  transform = TRUE, \n",
    "                  transform_matrix = local_transform,\n",
    "                  bootstrap = TRUE, \n",
    "                  num_bootstraps = 500,\n",
    "                  confidence_level = 0.95, \n",
    "                  stratify = TRUE,\n",
    "                  permute = TRUE, \n",
    "                  num_permutations = 500,\n",
    "                  window = 6, \n",
    "                  valuetype = 'fixed',\n",
    "                  case_insensitive = TRUE,\n",
    "                  hard_cut = FALSE,\n",
    "                  verbose = FALSE)"
   ]
  },
  {
   "cell_type": "code",
   "execution_count": 11,
   "id": "a284377a",
   "metadata": {
    "execution": {
     "iopub.execute_input": "2023-04-27T04:56:46.133278Z",
     "iopub.status.busy": "2023-04-27T04:56:46.131671Z",
     "iopub.status.idle": "2023-04-27T04:58:10.043707Z",
     "shell.execute_reply": "2023-04-27T04:58:10.041762Z"
    },
    "papermill": {
     "duration": 83.962589,
     "end_time": "2023-04-27T04:58:10.071267",
     "exception": false,
     "start_time": "2023-04-27T04:56:46.108678",
     "status": "completed"
    },
    "tags": []
   },
   "outputs": [
    {
     "name": "stdout",
     "output_type": "stream",
     "text": [
      "   coefficient normed.estimate  std.error lower.ci  upper.ci p.value\n",
      "1 AfterBLM_Yes       0.5618386 0.03055347 0.509335 0.6106385       0\n"
     ]
    }
   ],
   "source": [
    "# embedding regression model\n",
    "\n",
    "set.seed(2023L)\n",
    "model_target <- conText(formula = \"racism\" ~ AfterBLM,\n",
    "                  data = toks_nostop_feats,\n",
    "                  pre_trained = glove_model,\n",
    "                  transform = TRUE, \n",
    "                  transform_matrix = local_transform,\n",
    "                  bootstrap = TRUE, \n",
    "                  num_bootstraps = 500,\n",
    "                  confidence_level = 0.95, \n",
    "                  stratify = TRUE,\n",
    "                  permute = TRUE, \n",
    "                  num_permutations = 500,\n",
    "                  window = 6, \n",
    "                  valuetype = 'fixed',\n",
    "                  case_insensitive = TRUE,\n",
    "                  hard_cut = FALSE,\n",
    "                  verbose = FALSE)"
   ]
  },
  {
   "cell_type": "code",
   "execution_count": 12,
   "id": "6909e641",
   "metadata": {
    "execution": {
     "iopub.execute_input": "2023-04-27T04:58:10.095400Z",
     "iopub.status.busy": "2023-04-27T04:58:10.091473Z",
     "iopub.status.idle": "2023-04-27T05:03:23.413747Z",
     "shell.execute_reply": "2023-04-27T05:03:23.411753Z"
    },
    "papermill": {
     "duration": 313.36016,
     "end_time": "2023-04-27T05:03:23.439466",
     "exception": false,
     "start_time": "2023-04-27T04:58:10.079306",
     "status": "completed"
    },
    "tags": []
   },
   "outputs": [
    {
     "name": "stdout",
     "output_type": "stream",
     "text": [
      "   coefficient normed.estimate   std.error  lower.ci  upper.ci p.value\n",
      "1 AfterBLM_Yes       0.4552799 0.007714829 0.4426484 0.4688825       0\n"
     ]
    }
   ],
   "source": [
    "# embedding regression model\n",
    "\n",
    "set.seed(2023L)\n",
    "model_target <- conText(formula = \"attend\" ~ AfterBLM,\n",
    "                  data = toks_nostop_feats,\n",
    "                  pre_trained = glove_model,\n",
    "                  transform = TRUE, \n",
    "                  transform_matrix = local_transform,\n",
    "                  bootstrap = TRUE, \n",
    "                  num_bootstraps = 500,\n",
    "                  confidence_level = 0.95, \n",
    "                  stratify = TRUE,\n",
    "                  permute = TRUE, \n",
    "                  num_permutations = 500,\n",
    "                  window = 6, \n",
    "                  valuetype = 'fixed',\n",
    "                  case_insensitive = TRUE,\n",
    "                  hard_cut = FALSE,\n",
    "                  verbose = FALSE)"
   ]
  },
  {
   "cell_type": "code",
   "execution_count": 13,
   "id": "aa19c483",
   "metadata": {
    "execution": {
     "iopub.execute_input": "2023-04-27T05:03:23.468223Z",
     "iopub.status.busy": "2023-04-27T05:03:23.466516Z",
     "iopub.status.idle": "2023-04-27T05:06:42.479141Z",
     "shell.execute_reply": "2023-04-27T05:06:42.476252Z"
    },
    "papermill": {
     "duration": 199.039034,
     "end_time": "2023-04-27T05:06:42.494643",
     "exception": false,
     "start_time": "2023-04-27T05:03:23.455609",
     "status": "completed"
    },
    "tags": []
   },
   "outputs": [
    {
     "name": "stdout",
     "output_type": "stream",
     "text": [
      "   coefficient normed.estimate  std.error  lower.ci  upper.ci p.value\n",
      "1 AfterBLM_Yes       0.7107921 0.01278017 0.6899795 0.7327323       0\n"
     ]
    }
   ],
   "source": [
    "# embedding regression model\n",
    "\n",
    "set.seed(2023L)\n",
    "model_target <- conText(formula = \"race\" ~ AfterBLM,\n",
    "                  data = toks_nostop_feats,\n",
    "                  pre_trained = glove_model,\n",
    "                  transform = TRUE, \n",
    "                  transform_matrix = local_transform,\n",
    "                  bootstrap = TRUE, \n",
    "                  num_bootstraps = 500,\n",
    "                  confidence_level = 0.95, \n",
    "                  stratify = TRUE,\n",
    "                  permute = TRUE, \n",
    "                  num_permutations = 500,\n",
    "                  window = 6, \n",
    "                  valuetype = 'fixed',\n",
    "                  case_insensitive = TRUE,\n",
    "                  hard_cut = FALSE,\n",
    "                  verbose = FALSE)"
   ]
  },
  {
   "cell_type": "code",
   "execution_count": 14,
   "id": "47d98991",
   "metadata": {
    "execution": {
     "iopub.execute_input": "2023-04-27T05:06:42.520027Z",
     "iopub.status.busy": "2023-04-27T05:06:42.518466Z",
     "iopub.status.idle": "2023-04-27T05:20:11.808225Z",
     "shell.execute_reply": "2023-04-27T05:20:11.806327Z"
    },
    "papermill": {
     "duration": 809.325146,
     "end_time": "2023-04-27T05:20:11.833087",
     "exception": false,
     "start_time": "2023-04-27T05:06:42.507941",
     "status": "completed"
    },
    "tags": []
   },
   "outputs": [
    {
     "name": "stdout",
     "output_type": "stream",
     "text": [
      "   coefficient normed.estimate   std.error  lower.ci  upper.ci p.value\n",
      "1 AfterBLM_Yes       0.4646031 0.007949275 0.4512033 0.4774993       0\n"
     ]
    }
   ],
   "source": [
    "# embedding regression model\n",
    "\n",
    "set.seed(2023L)\n",
    "model_target <- conText(formula = \"enjoy\" ~ AfterBLM,\n",
    "                  data = toks_nostop_feats,\n",
    "                  pre_trained = glove_model,\n",
    "                  transform = TRUE, \n",
    "                  transform_matrix = local_transform,\n",
    "                  bootstrap = TRUE, \n",
    "                  num_bootstraps = 500,\n",
    "                  confidence_level = 0.95, \n",
    "                  stratify = TRUE,\n",
    "                  permute = TRUE, \n",
    "                  num_permutations = 500,\n",
    "                  window = 6, \n",
    "                  valuetype = 'fixed',\n",
    "                  case_insensitive = TRUE,\n",
    "                  hard_cut = FALSE,\n",
    "                  verbose = FALSE)"
   ]
  },
  {
   "cell_type": "code",
   "execution_count": 15,
   "id": "ebeaa083",
   "metadata": {
    "execution": {
     "iopub.execute_input": "2023-04-27T05:20:11.906069Z",
     "iopub.status.busy": "2023-04-27T05:20:11.904111Z",
     "iopub.status.idle": "2023-04-27T05:34:39.230383Z",
     "shell.execute_reply": "2023-04-27T05:34:39.227382Z"
    },
    "papermill": {
     "duration": 867.388865,
     "end_time": "2023-04-27T05:34:39.243340",
     "exception": false,
     "start_time": "2023-04-27T05:20:11.854475",
     "status": "completed"
    },
    "tags": []
   },
   "outputs": [
    {
     "name": "stdout",
     "output_type": "stream",
     "text": [
      "   coefficient normed.estimate   std.error  lower.ci  upper.ci p.value\n",
      "1 AfterBLM_Yes       0.3500096 0.006116172 0.3399169 0.3598332       0\n"
     ]
    }
   ],
   "source": [
    "# embedding regression model\n",
    "\n",
    "set.seed(2023L)\n",
    "model_target <- conText(formula = \"excited\" ~ AfterBLM,\n",
    "                  data = toks_nostop_feats,\n",
    "                  pre_trained = glove_model,\n",
    "                  transform = TRUE, \n",
    "                  transform_matrix = local_transform,\n",
    "                  bootstrap = TRUE, \n",
    "                  num_bootstraps = 500,\n",
    "                  confidence_level = 0.95, \n",
    "                  stratify = TRUE,\n",
    "                  permute = TRUE, \n",
    "                  num_permutations = 500,\n",
    "                  window = 6, \n",
    "                  valuetype = 'fixed',\n",
    "                  case_insensitive = TRUE,\n",
    "                  hard_cut = FALSE,\n",
    "                  verbose = FALSE)"
   ]
  },
  {
   "cell_type": "code",
   "execution_count": 16,
   "id": "59ca8e65",
   "metadata": {
    "execution": {
     "iopub.execute_input": "2023-04-27T05:34:39.317133Z",
     "iopub.status.busy": "2023-04-27T05:34:39.315491Z",
     "iopub.status.idle": "2023-04-27T06:50:33.953785Z",
     "shell.execute_reply": "2023-04-27T06:50:33.950696Z"
    },
    "papermill": {
     "duration": 4554.71068,
     "end_time": "2023-04-27T06:50:33.967605",
     "exception": false,
     "start_time": "2023-04-27T05:34:39.256925",
     "status": "completed"
    },
    "tags": []
   },
   "outputs": [
    {
     "name": "stdout",
     "output_type": "stream",
     "text": [
      "   coefficient normed.estimate   std.error lower.ci  upper.ci p.value\n",
      "1 AfterBLM_Yes       0.5067119 0.003564473 0.500988 0.5125067       0\n"
     ]
    }
   ],
   "source": [
    "# embedding regression model\n",
    "\n",
    "set.seed(2023L)\n",
    "model_target <- conText(formula = \"help\" ~ AfterBLM,\n",
    "                  data = toks_nostop_feats,\n",
    "                  pre_trained = glove_model,\n",
    "                  transform = TRUE, \n",
    "                  transform_matrix = local_transform,\n",
    "                  bootstrap = TRUE, \n",
    "                  num_bootstraps = 500,\n",
    "                  confidence_level = 0.95, \n",
    "                  stratify = TRUE,\n",
    "                  permute = TRUE, \n",
    "                  num_permutations = 500,\n",
    "                  window = 6, \n",
    "                  valuetype = 'fixed',\n",
    "                  case_insensitive = TRUE,\n",
    "                  hard_cut = FALSE,\n",
    "                  verbose = FALSE)"
   ]
  },
  {
   "cell_type": "code",
   "execution_count": 17,
   "id": "717b2636",
   "metadata": {
    "execution": {
     "iopub.execute_input": "2023-04-27T06:50:34.355297Z",
     "iopub.status.busy": "2023-04-27T06:50:34.353615Z",
     "iopub.status.idle": "2023-04-27T06:58:41.645103Z",
     "shell.execute_reply": "2023-04-27T06:58:41.643098Z"
    },
    "papermill": {
     "duration": 487.695554,
     "end_time": "2023-04-27T06:58:41.673401",
     "exception": false,
     "start_time": "2023-04-27T06:50:33.977847",
     "status": "completed"
    },
    "tags": []
   },
   "outputs": [
    {
     "name": "stdout",
     "output_type": "stream",
     "text": [
      "   coefficient normed.estimate  std.error  lower.ci  upper.ci p.value\n",
      "1 AfterBLM_Yes       0.4494959 0.01194239 0.4302122 0.4685051       0\n"
     ]
    }
   ],
   "source": [
    "# embedding regression model\n",
    "\n",
    "set.seed(2023L)\n",
    "model_target <- conText(formula = \"awesome\" ~ AfterBLM,\n",
    "                  data = toks_nostop_feats,\n",
    "                  pre_trained = glove_model,\n",
    "                  transform = TRUE, \n",
    "                  transform_matrix = local_transform,\n",
    "                  bootstrap = TRUE, \n",
    "                  num_bootstraps = 500,\n",
    "                  confidence_level = 0.95, \n",
    "                  stratify = TRUE,\n",
    "                  permute = TRUE, \n",
    "                  num_permutations = 500,\n",
    "                  window = 6, \n",
    "                  valuetype = 'fixed',\n",
    "                  case_insensitive = TRUE,\n",
    "                  hard_cut = FALSE,\n",
    "                  verbose = FALSE)"
   ]
  },
  {
   "cell_type": "code",
   "execution_count": 18,
   "id": "2efa6e8a",
   "metadata": {
    "execution": {
     "iopub.execute_input": "2023-04-27T06:58:41.726934Z",
     "iopub.status.busy": "2023-04-27T06:58:41.725349Z",
     "iopub.status.idle": "2023-04-27T07:00:31.628634Z",
     "shell.execute_reply": "2023-04-27T07:00:31.625735Z"
    },
    "papermill": {
     "duration": 109.948062,
     "end_time": "2023-04-27T07:00:31.643522",
     "exception": false,
     "start_time": "2023-04-27T06:58:41.695460",
     "status": "completed"
    },
    "tags": []
   },
   "outputs": [
    {
     "name": "stdout",
     "output_type": "stream",
     "text": [
      "   coefficient normed.estimate std.error  lower.ci  upper.ci p.value\n",
      "1 AfterBLM_Yes       0.5495461 0.0172307 0.5209419 0.5763316       0\n"
     ]
    }
   ],
   "source": [
    "# embedding regression model\n",
    "\n",
    "set.seed(2023L)\n",
    "model_target <- conText(formula = \"announce\" ~ AfterBLM,\n",
    "                  data = toks_nostop_feats,\n",
    "                  pre_trained = glove_model,\n",
    "                  transform = TRUE, \n",
    "                  transform_matrix = local_transform,\n",
    "                  bootstrap = TRUE, \n",
    "                  num_bootstraps = 500,\n",
    "                  confidence_level = 0.95, \n",
    "                  stratify = TRUE,\n",
    "                  permute = TRUE, \n",
    "                  num_permutations = 500,\n",
    "                  window = 6, \n",
    "                  valuetype = 'fixed',\n",
    "                  case_insensitive = TRUE,\n",
    "                  hard_cut = FALSE,\n",
    "                  verbose = FALSE)"
   ]
  },
  {
   "cell_type": "code",
   "execution_count": 19,
   "id": "eff77604",
   "metadata": {
    "execution": {
     "iopub.execute_input": "2023-04-27T07:00:31.666198Z",
     "iopub.status.busy": "2023-04-27T07:00:31.664574Z",
     "iopub.status.idle": "2023-04-27T07:18:24.450268Z",
     "shell.execute_reply": "2023-04-27T07:18:24.447363Z"
    },
    "papermill": {
     "duration": 1072.818617,
     "end_time": "2023-04-27T07:18:24.471930",
     "exception": false,
     "start_time": "2023-04-27T07:00:31.653313",
     "status": "completed"
    },
    "tags": []
   },
   "outputs": [
    {
     "name": "stdout",
     "output_type": "stream",
     "text": [
      "   coefficient normed.estimate   std.error  lower.ci  upper.ci p.value\n",
      "1 AfterBLM_Yes       0.4585569 0.005934537 0.4490794 0.4680185       0\n"
     ]
    }
   ],
   "source": [
    "# embedding regression model\n",
    "\n",
    "set.seed(2023L)\n",
    "model_target <- conText(formula = \"semester\" ~ AfterBLM,\n",
    "                  data = toks_nostop_feats,\n",
    "                  pre_trained = glove_model,\n",
    "                  transform = TRUE, \n",
    "                  transform_matrix = local_transform,\n",
    "                  bootstrap = TRUE, \n",
    "                  num_bootstraps = 500,\n",
    "                  confidence_level = 0.95, \n",
    "                  stratify = TRUE,\n",
    "                  permute = TRUE, \n",
    "                  num_permutations = 500,\n",
    "                  window = 6, \n",
    "                  valuetype = 'fixed',\n",
    "                  case_insensitive = TRUE,\n",
    "                  hard_cut = FALSE,\n",
    "                  verbose = FALSE)"
   ]
  },
  {
   "cell_type": "code",
   "execution_count": 20,
   "id": "d64c63bd",
   "metadata": {
    "execution": {
     "iopub.execute_input": "2023-04-27T07:18:24.551725Z",
     "iopub.status.busy": "2023-04-27T07:18:24.550146Z",
     "iopub.status.idle": "2023-04-27T11:24:22.761377Z",
     "shell.execute_reply": "2023-04-27T11:24:22.759175Z"
    },
    "papermill": {
     "duration": 14758.303057,
     "end_time": "2023-04-27T11:24:22.789449",
     "exception": false,
     "start_time": "2023-04-27T07:18:24.486392",
     "status": "completed"
    },
    "tags": []
   },
   "outputs": [
    {
     "name": "stdout",
     "output_type": "stream",
     "text": [
      "   coefficient normed.estimate   std.error  lower.ci  upper.ci p.value\n",
      "1 AfterBLM_Yes       0.4883355 0.002115496 0.4848936 0.4917148       0\n"
     ]
    }
   ],
   "source": [
    "# embedding regression model\n",
    "\n",
    "set.seed(2023L)\n",
    "model_target <- conText(formula = \"students\" ~ AfterBLM,\n",
    "                  data = toks_nostop_feats,\n",
    "                  pre_trained = glove_model,\n",
    "                  transform = TRUE, \n",
    "                  transform_matrix = local_transform,\n",
    "                  bootstrap = TRUE, \n",
    "                  num_bootstraps = 500,\n",
    "                  confidence_level = 0.95, \n",
    "                  stratify = TRUE,\n",
    "                  permute = TRUE, \n",
    "                  num_permutations = 500,\n",
    "                  window = 6, \n",
    "                  valuetype = 'fixed',\n",
    "                  case_insensitive = TRUE,\n",
    "                  hard_cut = FALSE,\n",
    "                  verbose = FALSE)"
   ]
  },
  {
   "cell_type": "code",
   "execution_count": 21,
   "id": "6a20204c",
   "metadata": {
    "execution": {
     "iopub.execute_input": "2023-04-27T11:24:24.425195Z",
     "iopub.status.busy": "2023-04-27T11:24:24.423065Z",
     "iopub.status.idle": "2023-04-27T12:04:50.763014Z",
     "shell.execute_reply": "2023-04-27T12:04:50.759902Z"
    },
    "papermill": {
     "duration": 2427.991224,
     "end_time": "2023-04-27T12:04:50.790757",
     "exception": false,
     "start_time": "2023-04-27T11:24:22.799533",
     "status": "completed"
    },
    "tags": []
   },
   "outputs": [
    {
     "name": "stdout",
     "output_type": "stream",
     "text": [
      "   coefficient normed.estimate   std.error  lower.ci  upper.ci p.value\n",
      "1 AfterBLM_Yes       0.6431493 0.005577958 0.6334115 0.6520963       0\n"
     ]
    }
   ],
   "source": [
    "# embedding regression model\n",
    "\n",
    "set.seed(2023L)\n",
    "model_target <- conText(formula = \"summer\" ~ AfterBLM,\n",
    "                  data = toks_nostop_feats,\n",
    "                  pre_trained = glove_model,\n",
    "                  transform = TRUE, \n",
    "                  transform_matrix = local_transform,\n",
    "                  bootstrap = TRUE, \n",
    "                  num_bootstraps = 500,\n",
    "                  confidence_level = 0.95, \n",
    "                  stratify = TRUE,\n",
    "                  permute = TRUE, \n",
    "                  num_permutations = 500,\n",
    "                  window = 6, \n",
    "                  valuetype = 'fixed',\n",
    "                  case_insensitive = TRUE,\n",
    "                  hard_cut = FALSE,\n",
    "                  verbose = FALSE)"
   ]
  },
  {
   "cell_type": "code",
   "execution_count": 22,
   "id": "e55b8c28",
   "metadata": {
    "execution": {
     "iopub.execute_input": "2023-04-27T12:04:51.234327Z",
     "iopub.status.busy": "2023-04-27T12:04:51.232649Z",
     "iopub.status.idle": "2023-04-27T13:19:21.264800Z",
     "shell.execute_reply": "2023-04-27T13:19:21.262679Z"
    },
    "papermill": {
     "duration": 4470.482159,
     "end_time": "2023-04-27T13:19:21.286459",
     "exception": false,
     "start_time": "2023-04-27T12:04:50.804300",
     "status": "completed"
    },
    "tags": []
   },
   "outputs": [
    {
     "name": "stdout",
     "output_type": "stream",
     "text": [
      "   coefficient normed.estimate   std.error  lower.ci  upper.ci p.value\n",
      "1 AfterBLM_Yes       0.4238054 0.004800217 0.4158675 0.4318415       0\n"
     ]
    }
   ],
   "source": [
    "# embedding regression model\n",
    "\n",
    "set.seed(2023L)\n",
    "model_target <- conText(formula = \"welcome\" ~ AfterBLM,\n",
    "                  data = toks_nostop_feats,\n",
    "                  pre_trained = glove_model,\n",
    "                  transform = TRUE, \n",
    "                  transform_matrix = local_transform,\n",
    "                  bootstrap = TRUE, \n",
    "                  num_bootstraps = 500,\n",
    "                  confidence_level = 0.95, \n",
    "                  stratify = TRUE,\n",
    "                  permute = TRUE, \n",
    "                  num_permutations = 500,\n",
    "                  window = 6, \n",
    "                  valuetype = 'fixed',\n",
    "                  case_insensitive = TRUE,\n",
    "                  hard_cut = FALSE,\n",
    "                  verbose = FALSE)"
   ]
  },
  {
   "cell_type": "code",
   "execution_count": 23,
   "id": "7748d2d2",
   "metadata": {
    "execution": {
     "iopub.execute_input": "2023-04-27T13:19:21.634690Z",
     "iopub.status.busy": "2023-04-27T13:19:21.632984Z",
     "iopub.status.idle": "2023-04-27T13:26:16.744874Z",
     "shell.execute_reply": "2023-04-27T13:26:16.741995Z"
    },
    "papermill": {
     "duration": 415.453141,
     "end_time": "2023-04-27T13:26:16.758781",
     "exception": false,
     "start_time": "2023-04-27T13:19:21.305640",
     "status": "completed"
    },
    "tags": []
   },
   "outputs": [
    {
     "name": "stdout",
     "output_type": "stream",
     "text": [
      "   coefficient normed.estimate   std.error  lower.ci  upper.ci p.value\n",
      "1 AfterBLM_Yes       0.6218128 0.009821684 0.6060056 0.6390239       0\n"
     ]
    }
   ],
   "source": [
    "# embedding regression model\n",
    "\n",
    "set.seed(2023L)\n",
    "model_target <- conText(formula = \"winter\" ~ AfterBLM,\n",
    "                  data = toks_nostop_feats,\n",
    "                  pre_trained = glove_model,\n",
    "                  transform = TRUE, \n",
    "                  transform_matrix = local_transform,\n",
    "                  bootstrap = TRUE, \n",
    "                  num_bootstraps = 500,\n",
    "                  confidence_level = 0.95, \n",
    "                  stratify = TRUE,\n",
    "                  permute = TRUE, \n",
    "                  num_permutations = 500,\n",
    "                  window = 6, \n",
    "                  valuetype = 'fixed',\n",
    "                  case_insensitive = TRUE,\n",
    "                  hard_cut = FALSE,\n",
    "                  verbose = FALSE)"
   ]
  },
  {
   "cell_type": "code",
   "execution_count": 24,
   "id": "80c8e560",
   "metadata": {
    "execution": {
     "iopub.execute_input": "2023-04-27T13:26:16.812491Z",
     "iopub.status.busy": "2023-04-27T13:26:16.810972Z",
     "iopub.status.idle": "2023-04-27T13:42:30.699079Z",
     "shell.execute_reply": "2023-04-27T13:42:30.696186Z"
    },
    "papermill": {
     "duration": 973.947813,
     "end_time": "2023-04-27T13:42:30.719619",
     "exception": false,
     "start_time": "2023-04-27T13:26:16.771806",
     "status": "completed"
    },
    "tags": []
   },
   "outputs": [
    {
     "name": "stdout",
     "output_type": "stream",
     "text": [
      "   coefficient normed.estimate  std.error  lower.ci  upper.ci p.value\n",
      "1 AfterBLM_Yes       0.7161867 0.00779535 0.7021077 0.7288333       0\n"
     ]
    }
   ],
   "source": [
    "# embedding regression model\n",
    "\n",
    "set.seed(2023L)\n",
    "model_target <- conText(formula = \"season\" ~ AfterBLM,\n",
    "                  data = toks_nostop_feats,\n",
    "                  pre_trained = glove_model,\n",
    "                  transform = TRUE, \n",
    "                  transform_matrix = local_transform,\n",
    "                  bootstrap = TRUE, \n",
    "                  num_bootstraps = 500,\n",
    "                  confidence_level = 0.95, \n",
    "                  stratify = TRUE,\n",
    "                  permute = TRUE, \n",
    "                  num_permutations = 500,\n",
    "                  window = 6, \n",
    "                  valuetype = 'fixed',\n",
    "                  case_insensitive = TRUE,\n",
    "                  hard_cut = FALSE,\n",
    "                  verbose = FALSE)"
   ]
  },
  {
   "cell_type": "code",
   "execution_count": 25,
   "id": "5c9d605b",
   "metadata": {
    "execution": {
     "iopub.execute_input": "2023-04-27T13:42:30.799628Z",
     "iopub.status.busy": "2023-04-27T13:42:30.797964Z",
     "iopub.status.idle": "2023-04-27T14:10:48.645322Z",
     "shell.execute_reply": "2023-04-27T14:10:48.642405Z"
    },
    "papermill": {
     "duration": 1697.934698,
     "end_time": "2023-04-27T14:10:48.670366",
     "exception": false,
     "start_time": "2023-04-27T13:42:30.735668",
     "status": "completed"
    },
    "tags": []
   },
   "outputs": [
    {
     "name": "stdout",
     "output_type": "stream",
     "text": [
      "   coefficient normed.estimate   std.error  lower.ci  upper.ci p.value\n",
      "1 AfterBLM_Yes       0.6904242 0.006675851 0.6794002 0.7011805       0\n"
     ]
    }
   ],
   "source": [
    "# embedding regression model\n",
    "\n",
    "set.seed(2023L)\n",
    "model_target <- conText(formula = \"spring\" ~ AfterBLM,\n",
    "                  data = toks_nostop_feats,\n",
    "                  pre_trained = glove_model,\n",
    "                  transform = TRUE, \n",
    "                  transform_matrix = local_transform,\n",
    "                  bootstrap = TRUE, \n",
    "                  num_bootstraps = 500,\n",
    "                  confidence_level = 0.95, \n",
    "                  stratify = TRUE,\n",
    "                  permute = TRUE, \n",
    "                  num_permutations = 500,\n",
    "                  window = 6, \n",
    "                  valuetype = 'fixed',\n",
    "                  case_insensitive = TRUE,\n",
    "                  hard_cut = FALSE,\n",
    "                  verbose = FALSE)"
   ]
  },
  {
   "cell_type": "code",
   "execution_count": 26,
   "id": "a2a6d8bb",
   "metadata": {
    "execution": {
     "iopub.execute_input": "2023-04-27T14:10:48.799221Z",
     "iopub.status.busy": "2023-04-27T14:10:48.797744Z",
     "iopub.status.idle": "2023-04-27T14:14:08.213741Z",
     "shell.execute_reply": "2023-04-27T14:14:08.210885Z"
    },
    "papermill": {
     "duration": 199.542987,
     "end_time": "2023-04-27T14:14:08.229060",
     "exception": false,
     "start_time": "2023-04-27T14:10:48.686073",
     "status": "completed"
    },
    "tags": []
   },
   "outputs": [
    {
     "name": "stdout",
     "output_type": "stream",
     "text": [
      "   coefficient normed.estimate  std.error  lower.ci  upper.ci p.value\n",
      "1 AfterBLM_Yes       0.7389745 0.01775215 0.7090828 0.7677156       0\n"
     ]
    }
   ],
   "source": [
    "# embedding regression model\n",
    "\n",
    "set.seed(2023L)\n",
    "model_target <- conText(formula = \"christmas\" ~ AfterBLM,\n",
    "                  data = toks_nostop_feats,\n",
    "                  pre_trained = glove_model,\n",
    "                  transform = TRUE, \n",
    "                  transform_matrix = local_transform,\n",
    "                  bootstrap = TRUE, \n",
    "                  num_bootstraps = 500,\n",
    "                  confidence_level = 0.95, \n",
    "                  stratify = TRUE,\n",
    "                  permute = TRUE, \n",
    "                  num_permutations = 500,\n",
    "                  window = 6, \n",
    "                  valuetype = 'fixed',\n",
    "                  case_insensitive = TRUE,\n",
    "                  hard_cut = FALSE,\n",
    "                  verbose = FALSE)"
   ]
  }
 ],
 "metadata": {
  "kernelspec": {
   "display_name": "R",
   "language": "R",
   "name": "ir"
  },
  "language_info": {
   "codemirror_mode": "r",
   "file_extension": ".r",
   "mimetype": "text/x-r-source",
   "name": "R",
   "pygments_lexer": "r",
   "version": "4.0.5"
  },
  "papermill": {
   "default_parameters": {},
   "duration": 35707.029125,
   "end_time": "2023-04-27T14:14:12.284997",
   "environment_variables": {},
   "exception": null,
   "input_path": "__notebook__.ipynb",
   "output_path": "__notebook__.ipynb",
   "parameters": {},
   "start_time": "2023-04-27T04:19:05.255872",
   "version": "2.4.0"
  }
 },
 "nbformat": 4,
 "nbformat_minor": 5
}

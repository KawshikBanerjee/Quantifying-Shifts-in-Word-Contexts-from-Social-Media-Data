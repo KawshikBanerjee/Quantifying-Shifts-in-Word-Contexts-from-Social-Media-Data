{
 "cells": [
  {
   "cell_type": "code",
   "execution_count": 1,
   "id": "ac26d5a0",
   "metadata": {
    "_execution_state": "idle",
    "_uuid": "051d70d956493feee0c6d64651c6a088724dca2a",
    "execution": {
     "iopub.execute_input": "2023-04-25T16:49:31.864347Z",
     "iopub.status.busy": "2023-04-25T16:49:31.862140Z",
     "iopub.status.idle": "2023-04-25T16:54:51.649119Z",
     "shell.execute_reply": "2023-04-25T16:54:51.646302Z"
    },
    "papermill": {
     "duration": 319.797283,
     "end_time": "2023-04-25T16:54:51.652654",
     "exception": false,
     "start_time": "2023-04-25T16:49:31.855371",
     "status": "completed"
    },
    "tags": [],
    "vscode": {
     "languageId": "r"
    }
   },
   "outputs": [
    {
     "name": "stderr",
     "output_type": "stream",
     "text": [
      "Loading required package: usethis\n",
      "\n",
      "Downloading GitHub repo prodriguezsosa/conText@HEAD\n",
      "\n"
     ]
    },
    {
     "name": "stdout",
     "output_type": "stream",
     "text": [
      "cli          (3.6.0      -> 3.6.1     ) [CRAN]\n",
      "rlang        (1.0.6      -> 1.1.0     ) [CRAN]\n",
      "vctrs        (0.5.2      -> 0.6.2     ) [CRAN]\n",
      "tibble       (3.1.8      -> 3.2.1     ) [CRAN]\n",
      "pillar       (1.8.1      -> 1.9.0     ) [CRAN]\n",
      "RcppArmad... (0.12.0.1.0 -> 0.12.2.0.0) [CRAN]\n",
      "gtable       (0.3.1      -> 0.3.3     ) [CRAN]\n",
      "dplyr        (1.1.0      -> 1.1.2     ) [CRAN]\n",
      "ggplot2      (3.4.1      -> 3.4.2     ) [CRAN]\n",
      "quanteda     (3.2.4      -> 3.3.0     ) [CRAN]\n"
     ]
    },
    {
     "name": "stderr",
     "output_type": "stream",
     "text": [
      "Installing 10 packages: cli, rlang, vctrs, tibble, pillar, RcppArmadillo, gtable, dplyr, ggplot2, quanteda\n",
      "\n",
      "Installing packages into ‘/usr/local/lib/R/site-library’\n",
      "(as ‘lib’ is unspecified)\n",
      "\n",
      "Warning message in i.p(...):\n",
      "“installation of package ‘cli’ had non-zero exit status”\n",
      "Warning message in i.p(...):\n",
      "“installation of package ‘rlang’ had non-zero exit status”\n",
      "Warning message in i.p(...):\n",
      "“installation of package ‘vctrs’ had non-zero exit status”\n",
      "Warning message in i.p(...):\n",
      "“installation of package ‘gtable’ had non-zero exit status”\n",
      "Warning message in i.p(...):\n",
      "“installation of package ‘pillar’ had non-zero exit status”\n",
      "Warning message in i.p(...):\n",
      "“installation of package ‘tibble’ had non-zero exit status”\n",
      "Warning message in i.p(...):\n",
      "“installation of package ‘dplyr’ had non-zero exit status”\n",
      "Warning message in i.p(...):\n",
      "“installation of package ‘ggplot2’ had non-zero exit status”\n"
     ]
    },
    {
     "name": "stdout",
     "output_type": "stream",
     "text": [
      "\u001b[36m──\u001b[39m \u001b[36mR CMD build\u001b[39m \u001b[36m─────────────────────────────────────────────────────────────────\u001b[39m\n",
      "* checking for file ‘/tmp/RtmpzgJLff/remotese43fef420/prodriguezsosa-conText-523f736/DESCRIPTION’ ... OK\n",
      "* preparing ‘conText’:\n",
      "* checking DESCRIPTION meta-information ... OK\n",
      "* checking for LF line-endings in source and make files and shell scripts\n",
      "* checking for empty or unneeded directories\n",
      "* building ‘conText_1.4.3.tar.gz’\n",
      "\n"
     ]
    },
    {
     "name": "stderr",
     "output_type": "stream",
     "text": [
      "Installing package into ‘/usr/local/lib/R/site-library’\n",
      "(as ‘lib’ is unspecified)\n",
      "\n"
     ]
    }
   ],
   "source": [
    "library(devtools)\n",
    "devtools::install_github(\"prodriguezsosa/conText\")"
   ]
  },
  {
   "cell_type": "code",
   "execution_count": 2,
   "id": "fa8655e3",
   "metadata": {
    "execution": {
     "iopub.execute_input": "2023-04-25T16:54:51.731999Z",
     "iopub.status.busy": "2023-04-25T16:54:51.691153Z",
     "iopub.status.idle": "2023-04-25T16:54:54.575114Z",
     "shell.execute_reply": "2023-04-25T16:54:54.573347Z"
    },
    "papermill": {
     "duration": 2.920645,
     "end_time": "2023-04-25T16:54:54.577916",
     "exception": false,
     "start_time": "2023-04-25T16:54:51.657271",
     "status": "completed"
    },
    "tags": [],
    "vscode": {
     "languageId": "r"
    }
   },
   "outputs": [
    {
     "name": "stderr",
     "output_type": "stream",
     "text": [
      "Package version: 3.3.0\n",
      "Unicode version: 13.0\n",
      "ICU version: 66.1\n",
      "\n",
      "Parallel computing: 4 of 4 threads used.\n",
      "\n",
      "See https://quanteda.io for tutorials and examples.\n",
      "\n",
      "\n",
      "Attaching package: ‘dplyr’\n",
      "\n",
      "\n",
      "The following objects are masked from ‘package:stats’:\n",
      "\n",
      "    filter, lag\n",
      "\n",
      "\n",
      "The following objects are masked from ‘package:base’:\n",
      "\n",
      "    intersect, setdiff, setequal, union\n",
      "\n",
      "\n",
      "\n",
      "Attaching package: ‘hunspell’\n",
      "\n",
      "\n",
      "The following object is masked from ‘package:quanteda’:\n",
      "\n",
      "    dictionary\n",
      "\n",
      "\n",
      "── \u001b[1mAttaching core tidyverse packages\u001b[22m ──────────────────────── tidyverse 2.0.0 ──\n",
      "\u001b[32m✔\u001b[39m \u001b[34mforcats  \u001b[39m 1.0.0     \u001b[32m✔\u001b[39m \u001b[34mreadr    \u001b[39m 2.1.4\n",
      "\u001b[32m✔\u001b[39m \u001b[34mggplot2  \u001b[39m 3.4.1     \u001b[32m✔\u001b[39m \u001b[34mstringr  \u001b[39m 1.5.0\n",
      "\u001b[32m✔\u001b[39m \u001b[34mlubridate\u001b[39m 1.9.2     \u001b[32m✔\u001b[39m \u001b[34mtibble   \u001b[39m 3.1.8\n",
      "\u001b[32m✔\u001b[39m \u001b[34mpurrr    \u001b[39m 1.0.1     \u001b[32m✔\u001b[39m \u001b[34mtidyr    \u001b[39m 1.3.0\n",
      "── \u001b[1mConflicts\u001b[22m ────────────────────────────────────────── tidyverse_conflicts() ──\n",
      "\u001b[31m✖\u001b[39m \u001b[34mdplyr\u001b[39m::\u001b[32mfilter()\u001b[39m masks \u001b[34mstats\u001b[39m::filter()\n",
      "\u001b[31m✖\u001b[39m \u001b[34mdplyr\u001b[39m::\u001b[32mlag()\u001b[39m    masks \u001b[34mstats\u001b[39m::lag()\n",
      "\u001b[36mℹ\u001b[39m Use the conflicted package (\u001b[3m\u001b[34m<http://conflicted.r-lib.org/>\u001b[39m\u001b[23m) to force all conflicts to become errors\n"
     ]
    }
   ],
   "source": [
    "library(conText)\n",
    "library(quanteda)\n",
    "library(dplyr)\n",
    "library(text2vec)\n",
    "library(hunspell)\n",
    "library(tidyverse)\n",
    "# library(magrittr)"
   ]
  },
  {
   "cell_type": "code",
   "execution_count": 3,
   "id": "d3a3b108",
   "metadata": {
    "execution": {
     "iopub.execute_input": "2023-04-25T16:54:54.592038Z",
     "iopub.status.busy": "2023-04-25T16:54:54.589999Z",
     "iopub.status.idle": "2023-04-25T16:56:11.019674Z",
     "shell.execute_reply": "2023-04-25T16:56:11.017842Z"
    },
    "papermill": {
     "duration": 76.439633,
     "end_time": "2023-04-25T16:56:11.022642",
     "exception": false,
     "start_time": "2023-04-25T16:54:54.583009",
     "status": "completed"
    },
    "tags": [],
    "vscode": {
     "languageId": "r"
    }
   },
   "outputs": [],
   "source": [
    "data <- readRDS(\"/tweet.rds\")\n",
    "data <- data[(data$UniSerial <= 300) & (data$MainHandle == 1), ]"
   ]
  },
  {
   "cell_type": "code",
   "execution_count": 4,
   "id": "6618db28",
   "metadata": {
    "execution": {
     "iopub.execute_input": "2023-04-25T16:56:11.038623Z",
     "iopub.status.busy": "2023-04-25T16:56:11.037112Z",
     "iopub.status.idle": "2023-04-25T16:56:11.532930Z",
     "shell.execute_reply": "2023-04-25T16:56:11.531039Z"
    },
    "papermill": {
     "duration": 0.506018,
     "end_time": "2023-04-25T16:56:11.535484",
     "exception": false,
     "start_time": "2023-04-25T16:56:11.029466",
     "status": "completed"
    },
    "tags": [],
    "vscode": {
     "languageId": "r"
    }
   },
   "outputs": [],
   "source": [
    "data$AfterBLM <- \"No\"\n",
    "data$AfterBLM[data$year <= 2018 ] <- \"No\"\n",
    "data$AfterBLM[data$year > 2018 ] <- \"Yes\"\n",
    "\n",
    "data$IsTop <- \"No\"\n",
    "data$IsTop[data$UniSerial <= 100 ] <- \"Yes\"\n",
    "data$IsTop[data$UniSerial > 100 ] <- \"No\""
   ]
  },
  {
   "cell_type": "code",
   "execution_count": 5,
   "id": "0e11ed22",
   "metadata": {
    "execution": {
     "iopub.execute_input": "2023-04-25T16:56:11.549511Z",
     "iopub.status.busy": "2023-04-25T16:56:11.547972Z",
     "iopub.status.idle": "2023-04-25T16:56:11.586164Z",
     "shell.execute_reply": "2023-04-25T16:56:11.584305Z"
    },
    "papermill": {
     "duration": 0.04785,
     "end_time": "2023-04-25T16:56:11.588648",
     "exception": false,
     "start_time": "2023-04-25T16:56:11.540798",
     "status": "completed"
    },
    "tags": [],
    "vscode": {
     "languageId": "r"
    }
   },
   "outputs": [],
   "source": [
    "data <- data %>% select(Tweet, AfterBLM, IsTop)"
   ]
  },
  {
   "cell_type": "code",
   "execution_count": 6,
   "id": "f3acf216",
   "metadata": {
    "execution": {
     "iopub.execute_input": "2023-04-25T16:56:11.602637Z",
     "iopub.status.busy": "2023-04-25T16:56:11.601034Z",
     "iopub.status.idle": "2023-04-25T16:56:11.620593Z",
     "shell.execute_reply": "2023-04-25T16:56:11.618392Z"
    },
    "papermill": {
     "duration": 0.029347,
     "end_time": "2023-04-25T16:56:11.623265",
     "exception": false,
     "start_time": "2023-04-25T16:56:11.593918",
     "status": "completed"
    },
    "tags": [],
    "vscode": {
     "languageId": "r"
    }
   },
   "outputs": [
    {
     "name": "stdout",
     "output_type": "stream",
     "text": [
      "[1] 3906616       3\n"
     ]
    }
   ],
   "source": [
    "print(dim(data))"
   ]
  },
  {
   "cell_type": "code",
   "execution_count": 7,
   "id": "d9db4e46",
   "metadata": {
    "execution": {
     "iopub.execute_input": "2023-04-25T16:56:11.637874Z",
     "iopub.status.busy": "2023-04-25T16:56:11.636181Z",
     "iopub.status.idle": "2023-04-25T17:17:49.897866Z",
     "shell.execute_reply": "2023-04-25T17:17:49.895886Z"
    },
    "papermill": {
     "duration": 1298.272015,
     "end_time": "2023-04-25T17:17:49.900621",
     "exception": false,
     "start_time": "2023-04-25T16:56:11.628606",
     "status": "completed"
    },
    "tags": [],
    "vscode": {
     "languageId": "r"
    }
   },
   "outputs": [
    {
     "data": {
      "text/html": [
       "<table class=\"dataframe\">\n",
       "<caption>A matrix: 2 × 6 of type dbl</caption>\n",
       "<thead>\n",
       "\t<tr><th></th><th scope=col>used</th><th scope=col>(Mb)</th><th scope=col>gc trigger</th><th scope=col>(Mb)</th><th scope=col>max used</th><th scope=col>(Mb)</th></tr>\n",
       "</thead>\n",
       "<tbody>\n",
       "\t<tr><th scope=row>Ncells</th><td> 10877789</td><td>581.0</td><td> 21164450</td><td>1130.4</td><td> 19535572</td><td>1043.4</td></tr>\n",
       "\t<tr><th scope=row>Vcells</th><td>105576667</td><td>805.5</td><td>308386391</td><td>2352.9</td><td>481606798</td><td>3674.4</td></tr>\n",
       "</tbody>\n",
       "</table>\n"
      ],
      "text/latex": [
       "A matrix: 2 × 6 of type dbl\n",
       "\\begin{tabular}{r|llllll}\n",
       "  & used & (Mb) & gc trigger & (Mb) & max used & (Mb)\\\\\n",
       "\\hline\n",
       "\tNcells &  10877789 & 581.0 &  21164450 & 1130.4 &  19535572 & 1043.4\\\\\n",
       "\tVcells & 105576667 & 805.5 & 308386391 & 2352.9 & 481606798 & 3674.4\\\\\n",
       "\\end{tabular}\n"
      ],
      "text/markdown": [
       "\n",
       "A matrix: 2 × 6 of type dbl\n",
       "\n",
       "| <!--/--> | used | (Mb) | gc trigger | (Mb) | max used | (Mb) |\n",
       "|---|---|---|---|---|---|---|\n",
       "| Ncells |  10877789 | 581.0 |  21164450 | 1130.4 |  19535572 | 1043.4 |\n",
       "| Vcells | 105576667 | 805.5 | 308386391 | 2352.9 | 481606798 | 3674.4 |\n",
       "\n"
      ],
      "text/plain": [
       "       used      (Mb)  gc trigger (Mb)   max used  (Mb)  \n",
       "Ncells  10877789 581.0  21164450  1130.4  19535572 1043.4\n",
       "Vcells 105576667 805.5 308386391  2352.9 481606798 3674.4"
      ]
     },
     "metadata": {},
     "output_type": "display_data"
    },
    {
     "data": {
      "text/html": [
       "<table class=\"dataframe\">\n",
       "<caption>A matrix: 2 × 6 of type dbl</caption>\n",
       "<thead>\n",
       "\t<tr><th></th><th scope=col>used</th><th scope=col>(Mb)</th><th scope=col>gc trigger</th><th scope=col>(Mb)</th><th scope=col>max used</th><th scope=col>(Mb)</th></tr>\n",
       "</thead>\n",
       "<tbody>\n",
       "\t<tr><th scope=row>Ncells</th><td> 18435520</td><td> 984.6</td><td>  39002584</td><td>2083.0</td><td>  39002584</td><td>2083.0</td></tr>\n",
       "\t<tr><th scope=row>Vcells</th><td>150541728</td><td>1148.6</td><td>1061859963</td><td>8101.4</td><td>1132885155</td><td>8643.3</td></tr>\n",
       "</tbody>\n",
       "</table>\n"
      ],
      "text/latex": [
       "A matrix: 2 × 6 of type dbl\n",
       "\\begin{tabular}{r|llllll}\n",
       "  & used & (Mb) & gc trigger & (Mb) & max used & (Mb)\\\\\n",
       "\\hline\n",
       "\tNcells &  18435520 &  984.6 &   39002584 & 2083.0 &   39002584 & 2083.0\\\\\n",
       "\tVcells & 150541728 & 1148.6 & 1061859963 & 8101.4 & 1132885155 & 8643.3\\\\\n",
       "\\end{tabular}\n"
      ],
      "text/markdown": [
       "\n",
       "A matrix: 2 × 6 of type dbl\n",
       "\n",
       "| <!--/--> | used | (Mb) | gc trigger | (Mb) | max used | (Mb) |\n",
       "|---|---|---|---|---|---|---|\n",
       "| Ncells |  18435520 |  984.6 |   39002584 | 2083.0 |   39002584 | 2083.0 |\n",
       "| Vcells | 150541728 | 1148.6 | 1061859963 | 8101.4 | 1132885155 | 8643.3 |\n",
       "\n"
      ],
      "text/plain": [
       "       used      (Mb)   gc trigger (Mb)   max used   (Mb)  \n",
       "Ncells  18435520  984.6   39002584 2083.0   39002584 2083.0\n",
       "Vcells 150541728 1148.6 1061859963 8101.4 1132885155 8643.3"
      ]
     },
     "metadata": {},
     "output_type": "display_data"
    },
    {
     "data": {
      "text/html": [
       "<table class=\"dataframe\">\n",
       "<caption>A matrix: 2 × 6 of type dbl</caption>\n",
       "<thead>\n",
       "\t<tr><th></th><th scope=col>used</th><th scope=col>(Mb)</th><th scope=col>gc trigger</th><th scope=col>(Mb)</th><th scope=col>max used</th><th scope=col>(Mb)</th></tr>\n",
       "</thead>\n",
       "<tbody>\n",
       "\t<tr><th scope=row>Ncells</th><td> 22342769</td><td>1193.3</td><td> 39002584</td><td>2083.0</td><td>  39002584</td><td>2083.0</td></tr>\n",
       "\t<tr><th scope=row>Vcells</th><td>184384986</td><td>1406.8</td><td>849487971</td><td>6481.1</td><td>1132885155</td><td>8643.3</td></tr>\n",
       "</tbody>\n",
       "</table>\n"
      ],
      "text/latex": [
       "A matrix: 2 × 6 of type dbl\n",
       "\\begin{tabular}{r|llllll}\n",
       "  & used & (Mb) & gc trigger & (Mb) & max used & (Mb)\\\\\n",
       "\\hline\n",
       "\tNcells &  22342769 & 1193.3 &  39002584 & 2083.0 &   39002584 & 2083.0\\\\\n",
       "\tVcells & 184384986 & 1406.8 & 849487971 & 6481.1 & 1132885155 & 8643.3\\\\\n",
       "\\end{tabular}\n"
      ],
      "text/markdown": [
       "\n",
       "A matrix: 2 × 6 of type dbl\n",
       "\n",
       "| <!--/--> | used | (Mb) | gc trigger | (Mb) | max used | (Mb) |\n",
       "|---|---|---|---|---|---|---|\n",
       "| Ncells |  22342769 | 1193.3 |  39002584 | 2083.0 |   39002584 | 2083.0 |\n",
       "| Vcells | 184384986 | 1406.8 | 849487971 | 6481.1 | 1132885155 | 8643.3 |\n",
       "\n"
      ],
      "text/plain": [
       "       used      (Mb)   gc trigger (Mb)   max used   (Mb)  \n",
       "Ncells  22342769 1193.3  39002584  2083.0   39002584 2083.0\n",
       "Vcells 184384986 1406.8 849487971  6481.1 1132885155 8643.3"
      ]
     },
     "metadata": {},
     "output_type": "display_data"
    },
    {
     "data": {
      "text/html": [
       "<table class=\"dataframe\">\n",
       "<caption>A matrix: 2 × 6 of type dbl</caption>\n",
       "<thead>\n",
       "\t<tr><th></th><th scope=col>used</th><th scope=col>(Mb)</th><th scope=col>gc trigger</th><th scope=col>(Mb)</th><th scope=col>max used</th><th scope=col>(Mb)</th></tr>\n",
       "</thead>\n",
       "<tbody>\n",
       "\t<tr><th scope=row>Ncells</th><td> 22354735</td><td>1193.9</td><td> 39002584</td><td>2083.0</td><td>  39002584</td><td>2083.0</td></tr>\n",
       "\t<tr><th scope=row>Vcells</th><td>184622241</td><td>1408.6</td><td>679590377</td><td>5184.9</td><td>1132885155</td><td>8643.3</td></tr>\n",
       "</tbody>\n",
       "</table>\n"
      ],
      "text/latex": [
       "A matrix: 2 × 6 of type dbl\n",
       "\\begin{tabular}{r|llllll}\n",
       "  & used & (Mb) & gc trigger & (Mb) & max used & (Mb)\\\\\n",
       "\\hline\n",
       "\tNcells &  22354735 & 1193.9 &  39002584 & 2083.0 &   39002584 & 2083.0\\\\\n",
       "\tVcells & 184622241 & 1408.6 & 679590377 & 5184.9 & 1132885155 & 8643.3\\\\\n",
       "\\end{tabular}\n"
      ],
      "text/markdown": [
       "\n",
       "A matrix: 2 × 6 of type dbl\n",
       "\n",
       "| <!--/--> | used | (Mb) | gc trigger | (Mb) | max used | (Mb) |\n",
       "|---|---|---|---|---|---|---|\n",
       "| Ncells |  22354735 | 1193.9 |  39002584 | 2083.0 |   39002584 | 2083.0 |\n",
       "| Vcells | 184622241 | 1408.6 | 679590377 | 5184.9 | 1132885155 | 8643.3 |\n",
       "\n"
      ],
      "text/plain": [
       "       used      (Mb)   gc trigger (Mb)   max used   (Mb)  \n",
       "Ncells  22354735 1193.9  39002584  2083.0   39002584 2083.0\n",
       "Vcells 184622241 1408.6 679590377  5184.9 1132885155 8643.3"
      ]
     },
     "metadata": {},
     "output_type": "display_data"
    },
    {
     "data": {
      "text/html": [
       "<table class=\"dataframe\">\n",
       "<caption>A matrix: 2 × 6 of type dbl</caption>\n",
       "<thead>\n",
       "\t<tr><th></th><th scope=col>used</th><th scope=col>(Mb)</th><th scope=col>gc trigger</th><th scope=col>(Mb)</th><th scope=col>max used</th><th scope=col>(Mb)</th></tr>\n",
       "</thead>\n",
       "<tbody>\n",
       "\t<tr><th scope=row>Ncells</th><td> 26261383</td><td>1402.6</td><td> 39002584</td><td>2083.0</td><td>  39002584</td><td>2083.0</td></tr>\n",
       "\t<tr><th scope=row>Vcells</th><td>215018697</td><td>1640.5</td><td>679590377</td><td>5184.9</td><td>1132885155</td><td>8643.3</td></tr>\n",
       "</tbody>\n",
       "</table>\n"
      ],
      "text/latex": [
       "A matrix: 2 × 6 of type dbl\n",
       "\\begin{tabular}{r|llllll}\n",
       "  & used & (Mb) & gc trigger & (Mb) & max used & (Mb)\\\\\n",
       "\\hline\n",
       "\tNcells &  26261383 & 1402.6 &  39002584 & 2083.0 &   39002584 & 2083.0\\\\\n",
       "\tVcells & 215018697 & 1640.5 & 679590377 & 5184.9 & 1132885155 & 8643.3\\\\\n",
       "\\end{tabular}\n"
      ],
      "text/markdown": [
       "\n",
       "A matrix: 2 × 6 of type dbl\n",
       "\n",
       "| <!--/--> | used | (Mb) | gc trigger | (Mb) | max used | (Mb) |\n",
       "|---|---|---|---|---|---|---|\n",
       "| Ncells |  26261383 | 1402.6 |  39002584 | 2083.0 |   39002584 | 2083.0 |\n",
       "| Vcells | 215018697 | 1640.5 | 679590377 | 5184.9 | 1132885155 | 8643.3 |\n",
       "\n"
      ],
      "text/plain": [
       "       used      (Mb)   gc trigger (Mb)   max used   (Mb)  \n",
       "Ncells  26261383 1402.6  39002584  2083.0   39002584 2083.0\n",
       "Vcells 215018697 1640.5 679590377  5184.9 1132885155 8643.3"
      ]
     },
     "metadata": {},
     "output_type": "display_data"
    }
   ],
   "source": [
    "# Pre processing \n",
    "\n",
    "# tokenize corpus removing unnecessary (i.e. semantically uninformative) elements\n",
    "corp <- corpus(data, text_field = \"Tweet\")\n",
    "gc()\n",
    "\n",
    "toks <- tokens(corp, \n",
    "               remove_punct=T, \n",
    "               remove_symbols=T, \n",
    "               remove_numbers=T, \n",
    "               remove_separators=T, \n",
    "               remove_url=T, \n",
    "               verbose=F)\n",
    "gc()\n",
    "\n",
    "toks_nostop <- tokens_select(toks, \n",
    "                             pattern = c(stopwords(\"en\"), \"http\", \"https\", \"t\", \"co\", \"bit\", \"ly\", \"thank\", \"thanks\", \"you\", \"amp\", \"campus\", \"RT\", \"pm\", \"p.m\", \"am\", \"a.m\",\n",
    "                                      \"prof\", \"prof.\", \"professor\", \"saturday\", \"sunday\", \"monday\", \"tuesday\", \"wednesday\", \"thursday\", \"friday\", \"w\", \"w/o\", \"w/\", \"mt\", \"congrats\", \"congratulations\",\n",
    "                                      \"hello\", \"bye\", \"welcome\", \"see\", \"check\", \"tomorrow\", \"today\", \"tonight\", \"yesterday\", \"class\", \"classes\", \"break\", \"vacation\", \"wish\", \"wishing\", \n",
    "                                      \"christmas\", \"xmas\", \"day\", \"night\", \"year\", \"month\", \"season\", \"summar\", \"winter\", \"spring\", \"fall\", \"session\", \"sessions\", \"term\",\n",
    "                                      \"student\", \"students\", \"can\", \"cannot\", \"can't\", \"one\", \"two\", \"three\", \"four\", \"five\", \"six\", \"seven\", \"eight\", \"nine\", \"zero\", \"ones\", \"zeros\",\n",
    "                                      \"us\", \"they\", \"them\", \"their\", \"these\", \"those\", \"dr\", \"s\", \"university\", \"school\", \"college\", \"colleges\"), \n",
    "                             selection = \"remove\", \n",
    "                             min_nchar=3)\n",
    "gc()\n",
    "\n",
    "# only use features that appear at least 5 times in the corpus\n",
    "feats <- dfm(toks_nostop, \n",
    "             tolower=T, \n",
    "             verbose = FALSE) %>% dfm_trim(min_termfreq = 5) %>% featnames()\n",
    "gc()\n",
    "\n",
    "# leave the pads so that non-adjacent words will not become adjacent\n",
    "toks_nostop_feats <- tokens_select(toks_nostop, \n",
    "                                   feats, \n",
    "                                   padding = TRUE)\n",
    "gc()"
   ]
  },
  {
   "cell_type": "code",
   "execution_count": 8,
   "id": "d2f1da07",
   "metadata": {
    "execution": {
     "iopub.execute_input": "2023-04-25T17:17:50.025812Z",
     "iopub.status.busy": "2023-04-25T17:17:50.024182Z",
     "iopub.status.idle": "2023-04-25T17:18:06.433682Z",
     "shell.execute_reply": "2023-04-25T17:18:06.431738Z"
    },
    "papermill": {
     "duration": 16.529284,
     "end_time": "2023-04-25T17:18:06.436388",
     "exception": false,
     "start_time": "2023-04-25T17:17:49.907104",
     "status": "completed"
    },
    "tags": [],
    "vscode": {
     "languageId": "r"
    }
   },
   "outputs": [
    {
     "name": "stdout",
     "output_type": "stream",
     "text": [
      "22783 instances of \"black\" found.\n",
      "  pattern AfterBLM IsTop\n",
      "1   black       No   Yes\n",
      "2   black       No   Yes\n",
      "3   black       No   Yes\n",
      "4   black       No   Yes\n",
      "5   black       No   Yes\n",
      "6   black       No   Yes\n"
     ]
    }
   ],
   "source": [
    "# 1. Building tokenized corpus\n",
    "target <- c('black')\n",
    "\n",
    "# build a tokenized corpus of contexts surrounding the target term\n",
    "target_toks <- tokens_context(x = toks_nostop_feats, \n",
    "                              pattern = target, \n",
    "                              window = 6L)\n",
    "print(head(docvars(target_toks)))\n",
    "\n",
    "# 2. Build a document-feature-matrix\n",
    "# build document-feature matrix\n",
    "target_dfm <- dfm(target_toks)"
   ]
  },
  {
   "cell_type": "code",
   "execution_count": 9,
   "id": "f09ff426",
   "metadata": {
    "execution": {
     "iopub.execute_input": "2023-04-25T17:18:06.455881Z",
     "iopub.status.busy": "2023-04-25T17:18:06.454226Z",
     "iopub.status.idle": "2023-04-25T17:18:10.020103Z",
     "shell.execute_reply": "2023-04-25T17:18:10.018117Z"
    },
    "papermill": {
     "duration": 3.578104,
     "end_time": "2023-04-25T17:18:10.022776",
     "exception": false,
     "start_time": "2023-04-25T17:18:06.444672",
     "status": "completed"
    },
    "tags": [],
    "vscode": {
     "languageId": "r"
    }
   },
   "outputs": [
    {
     "name": "stdout",
     "output_type": "stream",
     "text": [
      "the following documents could not be embedded due lack of overlap with pre-trained embeddings provided: \n",
      " text2593 text2595 text4506 text5338 text5648 text5649 text5652 text5754 text6293 text6313 text6514 text6536 text7739 text9378 text9515 text9575 text10963 text12930 text12931 text12934 text14471 text15570 text17990 text18390 text18478 text20991 \n",
      "  pattern AfterBLM IsTop\n",
      "1   black       No   Yes\n",
      "2   black       No   Yes\n",
      "3   black       No   Yes\n",
      "4   black       No   Yes\n",
      "5   black       No   Yes\n",
      "6   black       No   Yes\n",
      "[1] \"arts\"     \"company\"  \"dance\"    \"performs\" \"frist\"    \"harvard\" \n"
     ]
    }
   ],
   "source": [
    "# 3. Build a document-embedding-matrix\n",
    "\n",
    "# build a document-embedding-matrix\n",
    "glove_model = readRDS(\"/glovepretrained-embrgrsn/local_glove.rds\")\n",
    "local_transform <- readRDS(\"/glovepretrained-embrgrsn/local_transform.rds\")\n",
    "\n",
    "target_dem <- dem(x = target_dfm, \n",
    "                 pre_trained = glove_model, \n",
    "                 transform = TRUE, \n",
    "                 transform_matrix = local_transform, \n",
    "                 verbose = TRUE)\n",
    "\n",
    "# each document inherits its corresponding docvars\n",
    "print(head(target_dem@docvars))\n",
    "\n",
    "# you can check which documents were not embedded due to lack of overlapping features (in this example all documents are embedded)\n",
    "# note: 'quanteda' functions like `docvars()` and `docnames()` don't work on `dem` objects, so you will have to call the attributes directly. \n",
    "#setdiff(docnames(immig_dfm), immig_dem@Dimnames$docs)\n",
    "\n",
    "# vector of features used to create the embeddings\n",
    "print(head(target_dem@features))"
   ]
  },
  {
   "cell_type": "code",
   "execution_count": 10,
   "id": "5f36cabf",
   "metadata": {
    "execution": {
     "iopub.execute_input": "2023-04-25T17:18:10.040010Z",
     "iopub.status.busy": "2023-04-25T17:18:10.038307Z",
     "iopub.status.idle": "2023-04-25T17:18:10.180719Z",
     "shell.execute_reply": "2023-04-25T17:18:10.178762Z"
    },
    "papermill": {
     "duration": 0.153816,
     "end_time": "2023-04-25T17:18:10.183219",
     "exception": false,
     "start_time": "2023-04-25T17:18:10.029403",
     "status": "completed"
    },
    "tags": [],
    "vscode": {
     "languageId": "r"
    }
   },
   "outputs": [
    {
     "data": {
      "text/html": [
       "<style>\n",
       ".list-inline {list-style: none; margin:0; padding: 0}\n",
       ".list-inline>li {display: inline-block}\n",
       ".list-inline>li:not(:last-child)::after {content: \"\\00b7\"; padding: 0 .5ex}\n",
       "</style>\n",
       "<ol class=list-inline><li>2</li><li>300</li></ol>\n"
      ],
      "text/latex": [
       "\\begin{enumerate*}\n",
       "\\item 2\n",
       "\\item 300\n",
       "\\end{enumerate*}\n"
      ],
      "text/markdown": [
       "1. 2\n",
       "2. 300\n",
       "\n",
       "\n"
      ],
      "text/plain": [
       "[1]   2 300"
      ]
     },
     "metadata": {},
     "output_type": "display_data"
    }
   ],
   "source": [
    "# 4. Average over document embeddings\n",
    "\n",
    "# We now have ALC embedding for each instance of “artificial intelligence”\n",
    "# to get a single \"corpus-wide\" embedding, take the column average\n",
    "target_wv <- matrix(colMeans(target_dem), \n",
    "                    ncol = ncol(target_dem)) %>%  `rownames<-`(target)\n",
    "\n",
    "# we are usually interested in exploring semantic differences across groups\n",
    "# To do so, we can average using a grouping variable\n",
    "# to get group-specific embeddings, average within 'Time': before BLM of after\n",
    "target_wv_time <- dem_group(target_dem, groups = target_dem@docvars$AfterBLM)\n",
    "dim(target_wv_time)"
   ]
  },
  {
   "cell_type": "code",
   "execution_count": 11,
   "id": "0eac19ec",
   "metadata": {
    "execution": {
     "iopub.execute_input": "2023-04-25T17:18:10.200564Z",
     "iopub.status.busy": "2023-04-25T17:18:10.198931Z",
     "iopub.status.idle": "2023-04-25T17:18:11.850030Z",
     "shell.execute_reply": "2023-04-25T17:18:11.847827Z"
    },
    "papermill": {
     "duration": 1.663151,
     "end_time": "2023-04-25T17:18:11.853176",
     "exception": false,
     "start_time": "2023-04-25T17:18:10.190025",
     "status": "completed"
    },
    "tags": [],
    "vscode": {
     "languageId": "r"
    }
   },
   "outputs": [
    {
     "name": "stdout",
     "output_type": "stream",
     "text": [
      "Using porter for stemming. To check available languages run \"SnowballC::getStemLanguages()\" \n",
      "\u001b[90m# A tibble: 10 × 4\u001b[39m\n",
      "   target feature     rank value\n",
      "   \u001b[3m\u001b[90m<chr>\u001b[39m\u001b[23m  \u001b[3m\u001b[90m<chr>\u001b[39m\u001b[23m      \u001b[3m\u001b[90m<int>\u001b[39m\u001b[23m \u001b[3m\u001b[90m<dbl>\u001b[39m\u001b[23m\n",
      "\u001b[90m 1\u001b[39m Yes    museum         1 0.377\n",
      "\u001b[90m 2\u001b[39m Yes    jewish         2 0.369\n",
      "\u001b[90m 3\u001b[39m Yes    throughout     3 0.356\n",
      "\u001b[90m 4\u001b[39m Yes    latino         4 0.355\n",
      "\u001b[90m 5\u001b[39m Yes    histor         5 0.354\n",
      "\u001b[90m 6\u001b[39m Yes    proud          6 0.348\n",
      "\u001b[90m 7\u001b[39m Yes    women          7 0.345\n",
      "\u001b[90m 8\u001b[39m Yes    hispan         8 0.340\n",
      "\u001b[90m 9\u001b[39m Yes    becam          9 0.323\n",
      "\u001b[90m10\u001b[39m Yes    among         10 0.319\n",
      "\u001b[90m# A tibble: 10 × 4\u001b[39m\n",
      "   target feature    rank value\n",
      "   \u001b[3m\u001b[90m<chr>\u001b[39m\u001b[23m  \u001b[3m\u001b[90m<chr>\u001b[39m\u001b[23m     \u001b[3m\u001b[90m<int>\u001b[39m\u001b[23m \u001b[3m\u001b[90m<dbl>\u001b[39m\u001b[23m\n",
      "\u001b[90m 1\u001b[39m No     museum        1 0.348\n",
      "\u001b[90m 2\u001b[39m No     famou         2 0.304\n",
      "\u001b[90m 3\u001b[39m No     gold          3 0.299\n",
      "\u001b[90m 4\u001b[39m No     host          4 0.293\n",
      "\u001b[90m 5\u001b[39m No     celebr        5 0.291\n",
      "\u001b[90m 6\u001b[39m No     chapter       6 0.289\n",
      "\u001b[90m 7\u001b[39m No     movi          7 0.287\n",
      "\u001b[90m 8\u001b[39m No     basketbal     8 0.283\n",
      "\u001b[90m 9\u001b[39m No     event         9 0.281\n",
      "\u001b[90m10\u001b[39m No     histor       10 0.279\n"
     ]
    }
   ],
   "source": [
    "# 5. Comparing group embeddings\n",
    "\n",
    "# find nearest neighbors by 'time' (before/after)\n",
    "# setting as_list = FALSE combines each group's results into a single tibble\n",
    "\n",
    "target_nns <- nns(target_wv_time,\n",
    "              pre_trained = glove_model,\n",
    "              N = 10,\n",
    "              candidates = target_wv_time@features,\n",
    "              stem = TRUE,\n",
    "              as_list = TRUE)\n",
    "\n",
    "# check out results for different groups (time, AfterBLM: yes/no)\n",
    "print(target_nns[[\"Yes\"]])\n",
    "print(target_nns[[\"No\"]])"
   ]
  },
  {
   "cell_type": "code",
   "execution_count": 12,
   "id": "2b5d7099",
   "metadata": {
    "execution": {
     "iopub.execute_input": "2023-04-25T17:18:11.870904Z",
     "iopub.status.busy": "2023-04-25T17:18:11.869292Z",
     "iopub.status.idle": "2023-04-25T17:23:12.516079Z",
     "shell.execute_reply": "2023-04-25T17:23:12.514124Z"
    },
    "papermill": {
     "duration": 300.659001,
     "end_time": "2023-04-25T17:23:12.519240",
     "exception": false,
     "start_time": "2023-04-25T17:18:11.860239",
     "status": "completed"
    },
    "tags": [],
    "vscode": {
     "languageId": "r"
    }
   },
   "outputs": [
    {
     "name": "stdout",
     "output_type": "stream",
     "text": [
      "starting bootstraps \n",
      "done with bootstraps \n"
     ]
    },
    {
     "data": {
      "text/html": [
       "<table class=\"dataframe\">\n",
       "<caption>A tibble: 4 × 6</caption>\n",
       "<thead>\n",
       "\t<tr><th scope=col>target</th><th scope=col>feature</th><th scope=col>value</th><th scope=col>std.error</th><th scope=col>lower.ci</th><th scope=col>upper.ci</th></tr>\n",
       "\t<tr><th scope=col>&lt;fct&gt;</th><th scope=col>&lt;fct&gt;</th><th scope=col>&lt;dbl&gt;</th><th scope=col>&lt;dbl&gt;</th><th scope=col>&lt;dbl&gt;</th><th scope=col>&lt;dbl&gt;</th></tr>\n",
       "</thead>\n",
       "<tbody>\n",
       "\t<tr><td>No </td><td>color    </td><td>0.2541266</td><td>0.004283800</td><td>0.2472669</td><td>0.2605792</td></tr>\n",
       "\t<tr><td>No </td><td>community</td><td>0.2218898</td><td>0.004971559</td><td>0.2135361</td><td>0.2301434</td></tr>\n",
       "\t<tr><td>Yes</td><td>color    </td><td>0.3096168</td><td>0.003508599</td><td>0.3036151</td><td>0.3153549</td></tr>\n",
       "\t<tr><td>Yes</td><td>community</td><td>0.4248897</td><td>0.003956908</td><td>0.4182188</td><td>0.4315895</td></tr>\n",
       "</tbody>\n",
       "</table>\n"
      ],
      "text/latex": [
       "A tibble: 4 × 6\n",
       "\\begin{tabular}{llllll}\n",
       " target & feature & value & std.error & lower.ci & upper.ci\\\\\n",
       " <fct> & <fct> & <dbl> & <dbl> & <dbl> & <dbl>\\\\\n",
       "\\hline\n",
       "\t No  & color     & 0.2541266 & 0.004283800 & 0.2472669 & 0.2605792\\\\\n",
       "\t No  & community & 0.2218898 & 0.004971559 & 0.2135361 & 0.2301434\\\\\n",
       "\t Yes & color     & 0.3096168 & 0.003508599 & 0.3036151 & 0.3153549\\\\\n",
       "\t Yes & community & 0.4248897 & 0.003956908 & 0.4182188 & 0.4315895\\\\\n",
       "\\end{tabular}\n"
      ],
      "text/markdown": [
       "\n",
       "A tibble: 4 × 6\n",
       "\n",
       "| target &lt;fct&gt; | feature &lt;fct&gt; | value &lt;dbl&gt; | std.error &lt;dbl&gt; | lower.ci &lt;dbl&gt; | upper.ci &lt;dbl&gt; |\n",
       "|---|---|---|---|---|---|\n",
       "| No  | color     | 0.2541266 | 0.004283800 | 0.2472669 | 0.2605792 |\n",
       "| No  | community | 0.2218898 | 0.004971559 | 0.2135361 | 0.2301434 |\n",
       "| Yes | color     | 0.3096168 | 0.003508599 | 0.3036151 | 0.3153549 |\n",
       "| Yes | community | 0.4248897 | 0.003956908 | 0.4182188 | 0.4315895 |\n",
       "\n"
      ],
      "text/plain": [
       "  target feature   value     std.error   lower.ci  upper.ci \n",
       "1 No     color     0.2541266 0.004283800 0.2472669 0.2605792\n",
       "2 No     community 0.2218898 0.004971559 0.2135361 0.2301434\n",
       "3 Yes    color     0.3096168 0.003508599 0.3036151 0.3153549\n",
       "4 Yes    community 0.4248897 0.003956908 0.4182188 0.4315895"
      ]
     },
     "metadata": {},
     "output_type": "display_data"
    }
   ],
   "source": [
    "# cosine similarity\n",
    "\n",
    "# get_cos_sim() is a wrapper function for cos_sim(), \n",
    "# used to evaluate how similar each group’s (or single if groups is not defined) \n",
    "# embedding is to a set of features of interest – as with get_nns(), \n",
    "# the groups argument can take on more than two groups. \n",
    "# we set bootstrap = TRUE to obtain standard errors for the cosine similarities.\n",
    "\n",
    "# compute the cosine similarity between each group's embedding and a specific set of features\n",
    "set.seed(2021L)\n",
    "get_cos_sim(x = target_toks,\n",
    "            groups = docvars(target_toks, 'AfterBLM'),\n",
    "            features = c(\"color\", \"community\"),\n",
    "            pre_trained = glove_model,\n",
    "            transform = TRUE,\n",
    "            transform_matrix = local_transform,\n",
    "            bootstrap = TRUE,\n",
    "            num_bootstraps = 500,\n",
    "            as_list = FALSE)"
   ]
  },
  {
   "cell_type": "code",
   "execution_count": 13,
   "id": "195239c3",
   "metadata": {
    "execution": {
     "iopub.execute_input": "2023-04-25T17:23:12.545926Z",
     "iopub.status.busy": "2023-04-25T17:23:12.544238Z",
     "iopub.status.idle": "2023-04-25T17:25:32.687053Z",
     "shell.execute_reply": "2023-04-25T17:25:32.685191Z"
    },
    "papermill": {
     "duration": 140.159604,
     "end_time": "2023-04-25T17:25:32.689729",
     "exception": false,
     "start_time": "2023-04-25T17:23:12.530125",
     "status": "completed"
    },
    "tags": [],
    "vscode": {
     "languageId": "r"
    }
   },
   "outputs": [
    {
     "name": "stdout",
     "output_type": "stream",
     "text": [
      "9380 instances of \"race\" found.\n",
      "starting bootstraps \n",
      "done with bootstraps \n"
     ]
    },
    {
     "data": {
      "text/html": [
       "<table class=\"dataframe\">\n",
       "<caption>A tibble: 4 × 6</caption>\n",
       "<thead>\n",
       "\t<tr><th scope=col>target</th><th scope=col>feature</th><th scope=col>value</th><th scope=col>std.error</th><th scope=col>lower.ci</th><th scope=col>upper.ci</th></tr>\n",
       "\t<tr><th scope=col>&lt;fct&gt;</th><th scope=col>&lt;fct&gt;</th><th scope=col>&lt;dbl&gt;</th><th scope=col>&lt;dbl&gt;</th><th scope=col>&lt;dbl&gt;</th><th scope=col>&lt;dbl&gt;</th></tr>\n",
       "</thead>\n",
       "<tbody>\n",
       "\t<tr><td>No </td><td>competition</td><td>0.2201056</td><td>0.007900461</td><td>0.2074993</td><td>0.2331225</td></tr>\n",
       "\t<tr><td>No </td><td>community  </td><td>0.2287695</td><td>0.008089307</td><td>0.2150668</td><td>0.2416495</td></tr>\n",
       "\t<tr><td>Yes</td><td>competition</td><td>0.1571535</td><td>0.007996992</td><td>0.1428630</td><td>0.1701037</td></tr>\n",
       "\t<tr><td>Yes</td><td>community  </td><td>0.3180133</td><td>0.007916232</td><td>0.3045995</td><td>0.3312985</td></tr>\n",
       "</tbody>\n",
       "</table>\n"
      ],
      "text/latex": [
       "A tibble: 4 × 6\n",
       "\\begin{tabular}{llllll}\n",
       " target & feature & value & std.error & lower.ci & upper.ci\\\\\n",
       " <fct> & <fct> & <dbl> & <dbl> & <dbl> & <dbl>\\\\\n",
       "\\hline\n",
       "\t No  & competition & 0.2201056 & 0.007900461 & 0.2074993 & 0.2331225\\\\\n",
       "\t No  & community   & 0.2287695 & 0.008089307 & 0.2150668 & 0.2416495\\\\\n",
       "\t Yes & competition & 0.1571535 & 0.007996992 & 0.1428630 & 0.1701037\\\\\n",
       "\t Yes & community   & 0.3180133 & 0.007916232 & 0.3045995 & 0.3312985\\\\\n",
       "\\end{tabular}\n"
      ],
      "text/markdown": [
       "\n",
       "A tibble: 4 × 6\n",
       "\n",
       "| target &lt;fct&gt; | feature &lt;fct&gt; | value &lt;dbl&gt; | std.error &lt;dbl&gt; | lower.ci &lt;dbl&gt; | upper.ci &lt;dbl&gt; |\n",
       "|---|---|---|---|---|---|\n",
       "| No  | competition | 0.2201056 | 0.007900461 | 0.2074993 | 0.2331225 |\n",
       "| No  | community   | 0.2287695 | 0.008089307 | 0.2150668 | 0.2416495 |\n",
       "| Yes | competition | 0.1571535 | 0.007996992 | 0.1428630 | 0.1701037 |\n",
       "| Yes | community   | 0.3180133 | 0.007916232 | 0.3045995 | 0.3312985 |\n",
       "\n"
      ],
      "text/plain": [
       "  target feature     value     std.error   lower.ci  upper.ci \n",
       "1 No     competition 0.2201056 0.007900461 0.2074993 0.2331225\n",
       "2 No     community   0.2287695 0.008089307 0.2150668 0.2416495\n",
       "3 Yes    competition 0.1571535 0.007996992 0.1428630 0.1701037\n",
       "4 Yes    community   0.3180133 0.007916232 0.3045995 0.3312985"
      ]
     },
     "metadata": {},
     "output_type": "display_data"
    }
   ],
   "source": [
    "# build a tokenized corpus of contexts surrounding the target term\n",
    "target_toks_race <- tokens_context(x = toks_nostop_feats, \n",
    "                              pattern = 'race', \n",
    "                              window = 6L)\n",
    "set.seed(2021L)\n",
    "get_cos_sim(x = target_toks_race,\n",
    "            groups = docvars(target_toks_race, 'AfterBLM'),\n",
    "            features = c(\"community\", \"competition\"),\n",
    "            pre_trained = glove_model,\n",
    "            transform = TRUE,\n",
    "            transform_matrix = local_transform,\n",
    "            bootstrap = TRUE,\n",
    "            num_bootstraps = 500,\n",
    "            as_list = FALSE)"
   ]
  },
  {
   "cell_type": "code",
   "execution_count": 14,
   "id": "92cba10b",
   "metadata": {
    "execution": {
     "iopub.execute_input": "2023-04-25T17:25:32.713945Z",
     "iopub.status.busy": "2023-04-25T17:25:32.712248Z",
     "iopub.status.idle": "2023-04-25T17:50:46.212489Z",
     "shell.execute_reply": "2023-04-25T17:50:46.209509Z"
    },
    "papermill": {
     "duration": 1513.51537,
     "end_time": "2023-04-25T17:50:46.216684",
     "exception": false,
     "start_time": "2023-04-25T17:25:32.701314",
     "status": "completed"
    },
    "tags": [],
    "vscode": {
     "languageId": "r"
    }
   },
   "outputs": [
    {
     "name": "stdout",
     "output_type": "stream",
     "text": [
      "starting bootstraps \n",
      "done with bootstraps \n",
      "starting permutations \n",
      "done with permutations \n"
     ]
    },
    {
     "data": {
      "image/png": "[encoded data removed]"
     },
     "metadata": {
      "image/png": {
       "height": 420,
       "width": 420
      }
     },
     "output_type": "display_data"
    }
   ],
   "source": [
    "# nearest neighbor cosine similarity ratio\n",
    "feats <- featnames(dfm(target_toks))\n",
    "\n",
    "# compute ratio\n",
    "set.seed(2021L)\n",
    "target_nns_ratio <- get_nns_ratio(x = target_toks, \n",
    "                                 N = 10,\n",
    "                                 groups = docvars(target_toks, 'AfterBLM'),\n",
    "                                 numerator = \"Yes\",\n",
    "                                 candidates = feats,\n",
    "                                 pre_trained = glove_model,\n",
    "                                 transform = TRUE,\n",
    "                                 transform_matrix = local_transform,\n",
    "                                 bootstrap = TRUE,\n",
    "                                 num_bootstraps = 500,\n",
    "                                 permute = TRUE,\n",
    "                                 num_permutations = 500,\n",
    "                                 verbose = FALSE)\n",
    "\n",
    "plot_nns_ratio(x = target_nns_ratio, alpha = 0.02, horizontal = FALSE)\n",
    "\n",
    "target_plot <- plot_nns_ratio(x = target_nns_ratio, alpha = 0.02, horizontal = FALSE)\n",
    "\n",
    "# save our plot\n",
    "ggsave(\"/twitter_thesis_nns_AfterBLM_black.png\", \n",
    "       plot = target_plot, \n",
    "       height=6, \n",
    "       width=8.5, \n",
    "       units=\"in\", \n",
    "       dpi=700)"
   ]
  },
  {
   "cell_type": "code",
   "execution_count": 15,
   "id": "2c574818",
   "metadata": {
    "execution": {
     "iopub.execute_input": "2023-04-25T17:50:46.356561Z",
     "iopub.status.busy": "2023-04-25T17:50:46.354940Z",
     "iopub.status.idle": "2023-04-25T18:08:42.817364Z",
     "shell.execute_reply": "2023-04-25T18:08:42.815465Z"
    },
    "papermill": {
     "duration": 1076.589847,
     "end_time": "2023-04-25T18:08:42.820038",
     "exception": false,
     "start_time": "2023-04-25T17:50:46.230191",
     "status": "completed"
    },
    "tags": [],
    "vscode": {
     "languageId": "r"
    }
   },
   "outputs": [
    {
     "name": "stdout",
     "output_type": "stream",
     "text": [
      "starting bootstraps \n",
      "done with bootstraps \n",
      "starting permutations \n",
      "done with permutations \n"
     ]
    },
    {
     "data": {
      "image/png": "[encoded data removed]"
     },
     "metadata": {
      "image/png": {
       "height": 420,
       "width": 420
      }
     },
     "output_type": "display_data"
    }
   ],
   "source": [
    "# nearest neighbor cosine similarity ratio\n",
    "feats <- featnames(dfm(target_toks))\n",
    "\n",
    "# compute ratio\n",
    "set.seed(2021L)\n",
    "target_nns_ratio <- get_nns_ratio(x = target_toks_race, \n",
    "                                 N = 10,\n",
    "                                 groups = docvars(target_toks_race, 'AfterBLM'),\n",
    "                                 numerator = \"Yes\",\n",
    "                                 candidates = feats,\n",
    "                                 pre_trained = glove_model,\n",
    "                                 transform = TRUE,\n",
    "                                 transform_matrix = local_transform,\n",
    "                                 bootstrap = TRUE,\n",
    "                                 num_bootstraps = 500,\n",
    "                                 permute = TRUE,\n",
    "                                 num_permutations = 500,\n",
    "                                 verbose = FALSE)\n",
    "\n",
    "plot_nns_ratio(x = target_nns_ratio, alpha = 0.02, horizontal = FALSE)\n",
    "\n",
    "target_plot <- plot_nns_ratio(x = target_nns_ratio, alpha = 0.02, horizontal = FALSE)\n",
    "\n",
    "# save our plot\n",
    "ggsave(\"/twitter_thesis_nns_AfterBLM_race.png\", \n",
    "       plot = target_plot, \n",
    "       height=6, \n",
    "       width=8.5, \n",
    "       units=\"in\", \n",
    "       dpi=700)"
   ]
  }
 ],
 "metadata": {
  "kernelspec": {
   "display_name": "R",
   "language": "R",
   "name": "ir"
  },
  "language_info": {
   "codemirror_mode": "r",
   "file_extension": ".r",
   "mimetype": "text/x-r-source",
   "name": "R",
   "pygments_lexer": "r",
   "version": "4.0.5"
  },
  "papermill": {
   "default_parameters": {},
   "duration": 4758.434642,
   "end_time": "2023-04-25T18:08:46.635277",
   "environment_variables": {},
   "exception": null,
   "input_path": "__notebook__.ipynb",
   "output_path": "__notebook__.ipynb",
   "parameters": {},
   "start_time": "2023-04-25T16:49:28.200635",
   "version": "2.4.0"
  }
 },
 "nbformat": 4,
 "nbformat_minor": 5
}

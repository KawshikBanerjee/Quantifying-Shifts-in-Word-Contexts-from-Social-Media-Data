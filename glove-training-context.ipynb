{
 "cells": [
  {
   "cell_type": "code",
   "execution_count": 1,
   "id": "4bbb45a4",
   "metadata": {
    "execution": {
     "iopub.execute_input": "2023-02-25T05:48:47.265779Z",
     "iopub.status.busy": "2023-02-25T05:48:47.263720Z",
     "iopub.status.idle": "2023-02-25T05:52:35.487358Z",
     "shell.execute_reply": "2023-02-25T05:52:35.484133Z"
    },
    "papermill": {
     "duration": 228.231663,
     "end_time": "2023-02-25T05:52:35.490820",
     "exception": false,
     "start_time": "2023-02-25T05:48:47.259157",
     "status": "completed"
    },
    "tags": [],
    "vscode": {
     "languageId": "r"
    }
   },
   "outputs": [
    {
     "name": "stderr",
     "output_type": "stream",
     "text": [
      "Loading required package: usethis\n",
      "\n",
      "Downloading GitHub repo prodriguezsosa/conText@HEAD\n",
      "\n"
     ]
    },
    {
     "name": "stdout",
     "output_type": "stream",
     "text": [
      "colorspace   (2.0-3      -> 2.1-0     ) [CRAN]\n",
      "vctrs        (0.5.1      -> 0.5.2     ) [CRAN]\n",
      "utf8         (1.2.2      -> 1.2.3     ) [CRAN]\n",
      "fansi        (1.0.3      -> 1.0.4     ) [CRAN]\n",
      "Rcpp         (1.0.9      -> 1.0.10    ) [CRAN]\n",
      "RcppArmad... (0.11.4.3.1 -> 0.12.0.1.0) [CRAN]\n",
      "RhpcBLASctl  (0.21-247.1 -> 0.23-42   ) [CRAN]\n",
      "float        (0.3-0      -> 0.3-1     ) [CRAN]\n",
      "data.table   (1.14.6     -> 1.14.8    ) [CRAN]\n",
      "dplyr        (1.0.10     -> 1.1.0     ) [CRAN]\n",
      "yaml         (2.3.6      -> 2.3.7     ) [CRAN]\n",
      "ggplot2      (3.4.0      -> 3.4.1     ) [CRAN]\n",
      "tidyr        (1.2.1      -> 1.3.0     ) [CRAN]\n"
     ]
    },
    {
     "name": "stderr",
     "output_type": "stream",
     "text": [
      "Installing 13 packages: colorspace, vctrs, utf8, fansi, Rcpp, RcppArmadillo, RhpcBLASctl, float, data.table, dplyr, yaml, ggplot2, tidyr\n",
      "\n",
      "Installing packages into ‘/usr/local/lib/R/site-library’\n",
      "(as ‘lib’ is unspecified)\n",
      "\n",
      "Warning message in i.p(...):\n",
      "“installation of package ‘vctrs’ had non-zero exit status”\n",
      "Warning message in i.p(...):\n",
      "“installation of package ‘utf8’ had non-zero exit status”\n",
      "Warning message in i.p(...):\n",
      "“installation of package ‘fansi’ had non-zero exit status”\n",
      "Warning message in i.p(...):\n",
      "“installation of package ‘Rcpp’ had non-zero exit status”\n",
      "Warning message in i.p(...):\n",
      "“installation of package ‘dplyr’ had non-zero exit status”\n",
      "Warning message in i.p(...):\n",
      "“installation of package ‘tidyr’ had non-zero exit status”\n"
     ]
    },
    {
     "name": "stdout",
     "output_type": "stream",
     "text": [
      "\u001b[36m──\u001b[39m \u001b[36mR CMD build\u001b[39m \u001b[36m─────────────────────────────────────────────────────────────────\u001b[39m\n",
      "* checking for file ‘/tmp/Rtmp3ChBdg/remotese7c65911e/prodriguezsosa-conText-a3e1686/DESCRIPTION’ ... OK\n",
      "* preparing ‘conText’:\n",
      "* checking DESCRIPTION meta-information ... OK\n",
      "* checking for LF line-endings in source and make files and shell scripts\n",
      "* checking for empty or unneeded directories\n",
      "* building ‘conText_1.4.3.tar.gz’\n",
      "\n"
     ]
    },
    {
     "name": "stderr",
     "output_type": "stream",
     "text": [
      "Installing package into ‘/usr/local/lib/R/site-library’\n",
      "(as ‘lib’ is unspecified)\n",
      "\n"
     ]
    }
   ],
   "source": [
    "library(devtools)\n",
    "devtools::install_github(\"prodriguezsosa/conText\")"
   ]
  },
  {
   "cell_type": "code",
   "execution_count": 2,
   "id": "25b9b88a",
   "metadata": {
    "execution": {
     "iopub.execute_input": "2023-02-25T05:52:35.549405Z",
     "iopub.status.busy": "2023-02-25T05:52:35.513780Z",
     "iopub.status.idle": "2023-02-25T05:52:37.389005Z",
     "shell.execute_reply": "2023-02-25T05:52:37.387546Z"
    },
    "papermill": {
     "duration": 1.896856,
     "end_time": "2023-02-25T05:52:37.391398",
     "exception": false,
     "start_time": "2023-02-25T05:52:35.494542",
     "status": "completed"
    },
    "tags": [],
    "vscode": {
     "languageId": "r"
    }
   },
   "outputs": [
    {
     "name": "stderr",
     "output_type": "stream",
     "text": [
      "Package version: 3.2.4\n",
      "Unicode version: 13.0\n",
      "ICU version: 66.1\n",
      "\n",
      "Parallel computing: 4 of 4 threads used.\n",
      "\n",
      "See https://quanteda.io for tutorials and examples.\n",
      "\n",
      "\n",
      "Attaching package: ‘dplyr’\n",
      "\n",
      "\n",
      "The following objects are masked from ‘package:stats’:\n",
      "\n",
      "    filter, lag\n",
      "\n",
      "\n",
      "The following objects are masked from ‘package:base’:\n",
      "\n",
      "    intersect, setdiff, setequal, union\n",
      "\n",
      "\n"
     ]
    }
   ],
   "source": [
    "library(conText)\n",
    "library(quanteda)\n",
    "library(dplyr)\n",
    "library(text2vec)\n",
    "library(stringr)\n",
    "library(dplyr)"
   ]
  },
  {
   "cell_type": "code",
   "execution_count": 3,
   "id": "a5cae316",
   "metadata": {
    "execution": {
     "iopub.execute_input": "2023-02-25T05:52:37.400286Z",
     "iopub.status.busy": "2023-02-25T05:52:37.398976Z",
     "iopub.status.idle": "2023-02-25T05:58:22.782328Z",
     "shell.execute_reply": "2023-02-25T05:58:22.778945Z"
    },
    "papermill": {
     "duration": 345.392421,
     "end_time": "2023-02-25T05:58:22.786793",
     "exception": false,
     "start_time": "2023-02-25T05:52:37.394372",
     "status": "completed"
    },
    "tags": [],
    "vscode": {
     "languageId": "r"
    }
   },
   "outputs": [
    {
     "data": {
      "text/html": [
       "<table class=\"dataframe\">\n",
       "<caption>A matrix: 2 × 6 of type dbl</caption>\n",
       "<thead>\n",
       "\t<tr><th></th><th scope=col>used</th><th scope=col>(Mb)</th><th scope=col>gc trigger</th><th scope=col>(Mb)</th><th scope=col>max used</th><th scope=col>(Mb)</th></tr>\n",
       "</thead>\n",
       "<tbody>\n",
       "\t<tr><th scope=row>Ncells</th><td>  7463042</td><td> 398.6</td><td> 17221655</td><td> 919.8</td><td> 15370895</td><td> 820.9</td></tr>\n",
       "\t<tr><th scope=row>Vcells</th><td>193238978</td><td>1474.3</td><td>602333669</td><td>4595.5</td><td>553359735</td><td>4221.8</td></tr>\n",
       "</tbody>\n",
       "</table>\n"
      ],
      "text/latex": [
       "A matrix: 2 × 6 of type dbl\n",
       "\\begin{tabular}{r|llllll}\n",
       "  & used & (Mb) & gc trigger & (Mb) & max used & (Mb)\\\\\n",
       "\\hline\n",
       "\tNcells &   7463042 &  398.6 &  17221655 &  919.8 &  15370895 &  820.9\\\\\n",
       "\tVcells & 193238978 & 1474.3 & 602333669 & 4595.5 & 553359735 & 4221.8\\\\\n",
       "\\end{tabular}\n"
      ],
      "text/markdown": [
       "\n",
       "A matrix: 2 × 6 of type dbl\n",
       "\n",
       "| <!--/--> | used | (Mb) | gc trigger | (Mb) | max used | (Mb) |\n",
       "|---|---|---|---|---|---|---|\n",
       "| Ncells |   7463042 |  398.6 |  17221655 |  919.8 |  15370895 |  820.9 |\n",
       "| Vcells | 193238978 | 1474.3 | 602333669 | 4595.5 | 553359735 | 4221.8 |\n",
       "\n"
      ],
      "text/plain": [
       "       used      (Mb)   gc trigger (Mb)   max used  (Mb)  \n",
       "Ncells   7463042  398.6  17221655   919.8  15370895  820.9\n",
       "Vcells 193238978 1474.3 602333669  4595.5 553359735 4221.8"
      ]
     },
     "metadata": {},
     "output_type": "display_data"
    },
    {
     "data": {
      "text/html": [
       "<table class=\"dataframe\">\n",
       "<caption>A matrix: 2 × 6 of type dbl</caption>\n",
       "<thead>\n",
       "\t<tr><th></th><th scope=col>used</th><th scope=col>(Mb)</th><th scope=col>gc trigger</th><th scope=col>(Mb)</th><th scope=col>max used</th><th scope=col>(Mb)</th></tr>\n",
       "</thead>\n",
       "<tbody>\n",
       "\t<tr><th scope=row>Ncells</th><td>  9049115</td><td> 483.3</td><td> 17221655</td><td> 919.8</td><td> 16475252</td><td> 879.9</td></tr>\n",
       "\t<tr><th scope=row>Vcells</th><td>261106274</td><td>1992.1</td><td>602333669</td><td>4595.5</td><td>553359735</td><td>4221.8</td></tr>\n",
       "</tbody>\n",
       "</table>\n"
      ],
      "text/latex": [
       "A matrix: 2 × 6 of type dbl\n",
       "\\begin{tabular}{r|llllll}\n",
       "  & used & (Mb) & gc trigger & (Mb) & max used & (Mb)\\\\\n",
       "\\hline\n",
       "\tNcells &   9049115 &  483.3 &  17221655 &  919.8 &  16475252 &  879.9\\\\\n",
       "\tVcells & 261106274 & 1992.1 & 602333669 & 4595.5 & 553359735 & 4221.8\\\\\n",
       "\\end{tabular}\n"
      ],
      "text/markdown": [
       "\n",
       "A matrix: 2 × 6 of type dbl\n",
       "\n",
       "| <!--/--> | used | (Mb) | gc trigger | (Mb) | max used | (Mb) |\n",
       "|---|---|---|---|---|---|---|\n",
       "| Ncells |   9049115 |  483.3 |  17221655 |  919.8 |  16475252 |  879.9 |\n",
       "| Vcells | 261106274 | 1992.1 | 602333669 | 4595.5 | 553359735 | 4221.8 |\n",
       "\n"
      ],
      "text/plain": [
       "       used      (Mb)   gc trigger (Mb)   max used  (Mb)  \n",
       "Ncells   9049115  483.3  17221655   919.8  16475252  879.9\n",
       "Vcells 261106274 1992.1 602333669  4595.5 553359735 4221.8"
      ]
     },
     "metadata": {},
     "output_type": "display_data"
    },
    {
     "data": {
      "text/html": [
       "<table class=\"dataframe\">\n",
       "<caption>A matrix: 2 × 6 of type dbl</caption>\n",
       "<thead>\n",
       "\t<tr><th></th><th scope=col>used</th><th scope=col>(Mb)</th><th scope=col>gc trigger</th><th scope=col>(Mb)</th><th scope=col>max used</th><th scope=col>(Mb)</th></tr>\n",
       "</thead>\n",
       "<tbody>\n",
       "\t<tr><th scope=row>Ncells</th><td>  9061014</td><td> 484.0</td><td> 17221655</td><td> 919.8</td><td>  17221655</td><td> 919.8</td></tr>\n",
       "\t<tr><th scope=row>Vcells</th><td>261314552</td><td>1993.7</td><td>930092475</td><td>7096.1</td><td>1135333926</td><td>8662.0</td></tr>\n",
       "</tbody>\n",
       "</table>\n"
      ],
      "text/latex": [
       "A matrix: 2 × 6 of type dbl\n",
       "\\begin{tabular}{r|llllll}\n",
       "  & used & (Mb) & gc trigger & (Mb) & max used & (Mb)\\\\\n",
       "\\hline\n",
       "\tNcells &   9061014 &  484.0 &  17221655 &  919.8 &   17221655 &  919.8\\\\\n",
       "\tVcells & 261314552 & 1993.7 & 930092475 & 7096.1 & 1135333926 & 8662.0\\\\\n",
       "\\end{tabular}\n"
      ],
      "text/markdown": [
       "\n",
       "A matrix: 2 × 6 of type dbl\n",
       "\n",
       "| <!--/--> | used | (Mb) | gc trigger | (Mb) | max used | (Mb) |\n",
       "|---|---|---|---|---|---|---|\n",
       "| Ncells |   9061014 |  484.0 |  17221655 |  919.8 |   17221655 |  919.8 |\n",
       "| Vcells | 261314552 | 1993.7 | 930092475 | 7096.1 | 1135333926 | 8662.0 |\n",
       "\n"
      ],
      "text/plain": [
       "       used      (Mb)   gc trigger (Mb)   max used   (Mb)  \n",
       "Ncells   9061014  484.0  17221655   919.8   17221655  919.8\n",
       "Vcells 261314552 1993.7 930092475  7096.1 1135333926 8662.0"
      ]
     },
     "metadata": {},
     "output_type": "display_data"
    }
   ],
   "source": [
    "# read data\n",
    "cr_corpus <- readRDS(\"/paper-corpus-rds/paper_abstract_80prc.rds\")\n",
    "\n",
    "corp <- corpus(cr_corpus, text_field = \"Abstract\")\n",
    "\n",
    "toks <- tokens(corp, \n",
    "               remove_punct = T, \n",
    "               remove_symbols = T, \n",
    "               remove_numbers = T, \n",
    "               remove_separators = T)\n",
    "\n",
    "gc()\n",
    "\n",
    "# clean out stop words and words with 2 or fewer characters\n",
    "toks_nostop <- tokens_select(toks, \n",
    "                             pattern = stopwords(\"en\"), \n",
    "                             selection = \"remove\", \n",
    "                             min_nchar = 2)\n",
    "gc()\n",
    "\n",
    "# only use features that appear at least 5 times in the corpus\n",
    "feats <- dfm(toks_nostop, \n",
    "             tolower = T, \n",
    "             verbose = FALSE) %>% dfm_trim(min_termfreq = 5) %>% featnames()\n",
    "\n",
    "gc()\n",
    "\n",
    "# leave the pads so that non-adjacent words will not become adjacent\n",
    "toks <- tokens_select(toks_nostop, feats, padding = TRUE)"
   ]
  },
  {
   "cell_type": "code",
   "execution_count": 4,
   "id": "a70ee47b",
   "metadata": {
    "execution": {
     "iopub.execute_input": "2023-02-25T05:58:22.822427Z",
     "iopub.status.busy": "2023-02-25T05:58:22.819551Z",
     "iopub.status.idle": "2023-02-25T11:54:50.833507Z",
     "shell.execute_reply": "2023-02-25T11:54:50.831199Z"
    },
    "papermill": {
     "duration": 21388.045834,
     "end_time": "2023-02-25T11:54:50.837028",
     "exception": false,
     "start_time": "2023-02-25T05:58:22.791194",
     "status": "completed"
    },
    "tags": [],
    "vscode": {
     "languageId": "r"
    }
   },
   "outputs": [
    {
     "data": {
      "text/html": [
       "<table class=\"dataframe\">\n",
       "<caption>A matrix: 2 × 6 of type dbl</caption>\n",
       "<thead>\n",
       "\t<tr><th></th><th scope=col>used</th><th scope=col>(Mb)</th><th scope=col>gc trigger</th><th scope=col>(Mb)</th><th scope=col>max used</th><th scope=col>(Mb)</th></tr>\n",
       "</thead>\n",
       "<tbody>\n",
       "\t<tr><th scope=row>Ncells</th><td>  9061839</td><td> 484.0</td><td>  17221655</td><td>  919.8</td><td>  17221655</td><td>  919.8</td></tr>\n",
       "\t<tr><th scope=row>Vcells</th><td>427662084</td><td>3262.9</td><td>1669944291</td><td>12740.7</td><td>2086529069</td><td>15919.0</td></tr>\n",
       "</tbody>\n",
       "</table>\n"
      ],
      "text/latex": [
       "A matrix: 2 × 6 of type dbl\n",
       "\\begin{tabular}{r|llllll}\n",
       "  & used & (Mb) & gc trigger & (Mb) & max used & (Mb)\\\\\n",
       "\\hline\n",
       "\tNcells &   9061839 &  484.0 &   17221655 &   919.8 &   17221655 &   919.8\\\\\n",
       "\tVcells & 427662084 & 3262.9 & 1669944291 & 12740.7 & 2086529069 & 15919.0\\\\\n",
       "\\end{tabular}\n"
      ],
      "text/markdown": [
       "\n",
       "A matrix: 2 × 6 of type dbl\n",
       "\n",
       "| <!--/--> | used | (Mb) | gc trigger | (Mb) | max used | (Mb) |\n",
       "|---|---|---|---|---|---|---|\n",
       "| Ncells |   9061839 |  484.0 |   17221655 |   919.8 |   17221655 |   919.8 |\n",
       "| Vcells | 427662084 | 3262.9 | 1669944291 | 12740.7 | 2086529069 | 15919.0 |\n",
       "\n"
      ],
      "text/plain": [
       "       used      (Mb)   gc trigger (Mb)    max used   (Mb)   \n",
       "Ncells   9061839  484.0   17221655   919.8   17221655   919.8\n",
       "Vcells 427662084 3262.9 1669944291 12740.7 2086529069 15919.0"
      ]
     },
     "metadata": {},
     "output_type": "display_data"
    },
    {
     "name": "stdout",
     "output_type": "stream",
     "text": [
      "INFO  [06:03:47.964] epoch 1, loss 0.2152\n",
      "INFO  [06:07:02.153] epoch 2, loss 0.1236\n",
      "INFO  [06:10:15.922] epoch 3, loss 0.1093\n",
      "INFO  [06:13:31.478] epoch 4, loss 0.1019\n",
      "INFO  [06:16:46.284] epoch 5, loss 0.0970\n",
      "INFO  [06:20:00.155] epoch 6, loss 0.0934\n",
      "INFO  [06:23:15.096] epoch 7, loss 0.0905\n",
      "INFO  [06:26:29.784] epoch 8, loss 0.0882\n",
      "INFO  [06:29:43.698] epoch 9, loss 0.0862\n",
      "INFO  [06:32:57.822] epoch 10, loss 0.0845\n",
      "INFO  [06:36:11.488] epoch 11, loss 0.0829\n",
      "INFO  [06:39:25.788] epoch 12, loss 0.0816\n",
      "INFO  [06:42:39.296] epoch 13, loss 0.0804\n",
      "INFO  [06:45:53.408] epoch 14, loss 0.0792\n",
      "INFO  [06:49:06.825] epoch 15, loss 0.0782\n",
      "INFO  [06:52:20.904] epoch 16, loss 0.0773\n",
      "INFO  [06:55:34.911] epoch 17, loss 0.0764\n",
      "INFO  [06:58:48.706] epoch 18, loss 0.0756\n",
      "INFO  [07:02:03.014] epoch 19, loss 0.0749\n",
      "INFO  [07:05:18.035] epoch 20, loss 0.0742\n",
      "INFO  [07:08:31.889] epoch 21, loss 0.0735\n",
      "INFO  [07:11:45.971] epoch 22, loss 0.0729\n",
      "INFO  [07:14:59.556] epoch 23, loss 0.0723\n",
      "INFO  [07:18:14.241] epoch 24, loss 0.0718\n",
      "INFO  [07:21:28.949] epoch 25, loss 0.0712\n",
      "INFO  [07:24:43.560] epoch 26, loss 0.0707\n",
      "INFO  [07:27:58.352] epoch 27, loss 0.0703\n",
      "INFO  [07:31:13.400] epoch 28, loss 0.0698\n",
      "INFO  [07:34:27.081] epoch 29, loss 0.0694\n",
      "INFO  [07:37:41.104] epoch 30, loss 0.0690\n",
      "INFO  [07:40:56.114] epoch 31, loss 0.0686\n",
      "INFO  [07:44:09.594] epoch 32, loss 0.0682\n",
      "INFO  [07:47:23.260] epoch 33, loss 0.0679\n",
      "INFO  [07:50:37.139] epoch 34, loss 0.0675\n",
      "INFO  [07:53:51.410] epoch 35, loss 0.0672\n",
      "INFO  [07:57:05.821] epoch 36, loss 0.0669\n",
      "INFO  [08:00:20.062] epoch 37, loss 0.0666\n",
      "INFO  [08:03:36.446] epoch 38, loss 0.0663\n",
      "INFO  [08:06:51.904] epoch 39, loss 0.0660\n",
      "INFO  [08:10:07.305] epoch 40, loss 0.0657\n",
      "INFO  [08:13:24.357] epoch 41, loss 0.0655\n",
      "INFO  [08:16:40.586] epoch 42, loss 0.0652\n",
      "INFO  [08:19:57.279] epoch 43, loss 0.0650\n",
      "INFO  [08:23:14.516] epoch 44, loss 0.0647\n",
      "INFO  [08:26:31.432] epoch 45, loss 0.0645\n",
      "INFO  [08:29:47.154] epoch 46, loss 0.0643\n",
      "INFO  [08:33:04.041] epoch 47, loss 0.0641\n",
      "INFO  [08:36:19.698] epoch 48, loss 0.0639\n",
      "INFO  [08:39:34.025] epoch 49, loss 0.0637\n",
      "INFO  [08:42:48.727] epoch 50, loss 0.0635\n",
      "INFO  [08:46:02.671] epoch 51, loss 0.0633\n",
      "INFO  [08:49:16.569] epoch 52, loss 0.0631\n",
      "INFO  [08:52:31.042] epoch 53, loss 0.0629\n",
      "INFO  [08:55:45.350] epoch 54, loss 0.0627\n",
      "INFO  [08:58:59.719] epoch 55, loss 0.0626\n",
      "INFO  [09:02:14.516] epoch 56, loss 0.0624\n",
      "INFO  [09:05:28.708] epoch 57, loss 0.0622\n",
      "INFO  [09:08:42.627] epoch 58, loss 0.0621\n",
      "INFO  [09:11:56.736] epoch 59, loss 0.0619\n",
      "INFO  [09:15:11.058] epoch 60, loss 0.0618\n",
      "INFO  [09:18:25.925] epoch 61, loss 0.0616\n",
      "INFO  [09:21:40.350] epoch 62, loss 0.0615\n",
      "INFO  [09:24:54.408] epoch 63, loss 0.0614\n",
      "INFO  [09:28:07.767] epoch 64, loss 0.0612\n",
      "INFO  [09:31:23.327] epoch 65, loss 0.0611\n",
      "INFO  [09:34:37.901] epoch 66, loss 0.0610\n",
      "INFO  [09:37:52.136] epoch 67, loss 0.0609\n",
      "INFO  [09:41:06.873] epoch 68, loss 0.0607\n",
      "INFO  [09:44:21.436] epoch 69, loss 0.0606\n",
      "INFO  [09:47:38.103] epoch 70, loss 0.0605\n",
      "INFO  [09:50:53.086] epoch 71, loss 0.0604\n",
      "INFO  [09:54:08.036] epoch 72, loss 0.0603\n",
      "INFO  [09:57:22.697] epoch 73, loss 0.0602\n",
      "INFO  [10:00:37.912] epoch 74, loss 0.0601\n",
      "INFO  [10:03:53.521] epoch 75, loss 0.0600\n",
      "INFO  [10:07:08.922] epoch 76, loss 0.0598\n",
      "INFO  [10:10:23.793] epoch 77, loss 0.0597\n",
      "INFO  [10:13:39.062] epoch 78, loss 0.0597\n",
      "INFO  [10:16:53.805] epoch 79, loss 0.0596\n",
      "INFO  [10:20:08.714] epoch 80, loss 0.0595\n",
      "INFO  [10:23:23.522] epoch 81, loss 0.0594\n",
      "INFO  [10:26:38.733] epoch 82, loss 0.0593\n",
      "INFO  [10:29:53.507] epoch 83, loss 0.0592\n",
      "INFO  [10:33:08.383] epoch 84, loss 0.0591\n",
      "INFO  [10:36:23.215] epoch 85, loss 0.0590\n",
      "INFO  [10:39:37.680] epoch 86, loss 0.0589\n",
      "INFO  [10:42:52.447] epoch 87, loss 0.0589\n",
      "INFO  [10:46:07.449] epoch 88, loss 0.0588\n",
      "INFO  [10:49:21.861] epoch 89, loss 0.0587\n",
      "INFO  [10:52:36.319] epoch 90, loss 0.0586\n",
      "INFO  [10:55:50.355] epoch 91, loss 0.0585\n",
      "INFO  [10:59:03.750] epoch 92, loss 0.0585\n",
      "INFO  [11:02:18.342] epoch 93, loss 0.0584\n",
      "INFO  [11:05:32.156] epoch 94, loss 0.0583\n",
      "INFO  [11:08:45.629] epoch 95, loss 0.0582\n",
      "INFO  [11:11:59.465] epoch 96, loss 0.0582\n",
      "INFO  [11:15:13.254] epoch 97, loss 0.0581\n",
      "INFO  [11:18:27.536] epoch 98, loss 0.0580\n",
      "INFO  [11:21:41.556] epoch 99, loss 0.0580\n",
      "INFO  [11:24:55.632] epoch 100, loss 0.0579\n",
      "INFO  [11:28:09.460] epoch 101, loss 0.0578\n",
      "INFO  [11:31:22.847] epoch 102, loss 0.0578\n",
      "INFO  [11:34:36.851] epoch 103, loss 0.0577\n",
      "INFO  [11:37:50.598] epoch 104, loss 0.0577\n",
      "INFO  [11:41:04.400] epoch 105, loss 0.0576\n",
      "INFO  [11:44:19.141] epoch 106, loss 0.0575\n",
      "INFO  [11:47:33.472] epoch 107, loss 0.0575\n",
      "INFO  [11:50:48.228] epoch 108, loss 0.0574\n",
      "INFO  [11:54:02.617] epoch 109, loss 0.0574\n",
      "INFO  [11:54:02.625] Success: early stopping. Improvement at iterartion 109 is less then convergence_tol\n"
     ]
    },
    {
     "data": {
      "text/html": [
       "<table class=\"dataframe\">\n",
       "<caption>A matrix: 2 × 6 of type dbl</caption>\n",
       "<thead>\n",
       "\t<tr><th></th><th scope=col>used</th><th scope=col>(Mb)</th><th scope=col>gc trigger</th><th scope=col>(Mb)</th><th scope=col>max used</th><th scope=col>(Mb)</th></tr>\n",
       "</thead>\n",
       "<tbody>\n",
       "\t<tr><th scope=row>Ncells</th><td>  9075523</td><td> 484.7</td><td>  17221655</td><td>  919.8</td><td>  17221655</td><td>  919.8</td></tr>\n",
       "\t<tr><th scope=row>Vcells</th><td>592555793</td><td>4520.9</td><td>1669944291</td><td>12740.7</td><td>2086529069</td><td>15919.0</td></tr>\n",
       "</tbody>\n",
       "</table>\n"
      ],
      "text/latex": [
       "A matrix: 2 × 6 of type dbl\n",
       "\\begin{tabular}{r|llllll}\n",
       "  & used & (Mb) & gc trigger & (Mb) & max used & (Mb)\\\\\n",
       "\\hline\n",
       "\tNcells &   9075523 &  484.7 &   17221655 &   919.8 &   17221655 &   919.8\\\\\n",
       "\tVcells & 592555793 & 4520.9 & 1669944291 & 12740.7 & 2086529069 & 15919.0\\\\\n",
       "\\end{tabular}\n"
      ],
      "text/markdown": [
       "\n",
       "A matrix: 2 × 6 of type dbl\n",
       "\n",
       "| <!--/--> | used | (Mb) | gc trigger | (Mb) | max used | (Mb) |\n",
       "|---|---|---|---|---|---|---|\n",
       "| Ncells |   9075523 |  484.7 |   17221655 |   919.8 |   17221655 |   919.8 |\n",
       "| Vcells | 592555793 | 4520.9 | 1669944291 | 12740.7 | 2086529069 | 15919.0 |\n",
       "\n"
      ],
      "text/plain": [
       "       used      (Mb)   gc trigger (Mb)    max used   (Mb)   \n",
       "Ncells   9075523  484.7   17221655   919.8   17221655   919.8\n",
       "Vcells 592555793 4520.9 1669944291 12740.7 2086529069 15919.0"
      ]
     },
     "metadata": {},
     "output_type": "display_data"
    },
    {
     "data": {
      "text/html": [
       "<table class=\"dataframe\">\n",
       "<caption>A matrix: 2 × 6 of type dbl</caption>\n",
       "<thead>\n",
       "\t<tr><th></th><th scope=col>used</th><th scope=col>(Mb)</th><th scope=col>gc trigger</th><th scope=col>(Mb)</th><th scope=col>max used</th><th scope=col>(Mb)</th></tr>\n",
       "</thead>\n",
       "<tbody>\n",
       "\t<tr><th scope=row>Ncells</th><td>  9075563</td><td> 484.7</td><td>  17221655</td><td>  919.8</td><td>  17221655</td><td>  919.8</td></tr>\n",
       "\t<tr><th scope=row>Vcells</th><td>647389222</td><td>4939.2</td><td>1669944291</td><td>12740.7</td><td>2086529069</td><td>15919.0</td></tr>\n",
       "</tbody>\n",
       "</table>\n"
      ],
      "text/latex": [
       "A matrix: 2 × 6 of type dbl\n",
       "\\begin{tabular}{r|llllll}\n",
       "  & used & (Mb) & gc trigger & (Mb) & max used & (Mb)\\\\\n",
       "\\hline\n",
       "\tNcells &   9075563 &  484.7 &   17221655 &   919.8 &   17221655 &   919.8\\\\\n",
       "\tVcells & 647389222 & 4939.2 & 1669944291 & 12740.7 & 2086529069 & 15919.0\\\\\n",
       "\\end{tabular}\n"
      ],
      "text/markdown": [
       "\n",
       "A matrix: 2 × 6 of type dbl\n",
       "\n",
       "| <!--/--> | used | (Mb) | gc trigger | (Mb) | max used | (Mb) |\n",
       "|---|---|---|---|---|---|---|\n",
       "| Ncells |   9075563 |  484.7 |   17221655 |   919.8 |   17221655 |   919.8 |\n",
       "| Vcells | 647389222 | 4939.2 | 1669944291 | 12740.7 | 2086529069 | 15919.0 |\n",
       "\n"
      ],
      "text/plain": [
       "       used      (Mb)   gc trigger (Mb)    max used   (Mb)   \n",
       "Ncells   9075563  484.7   17221655   919.8   17221655   919.8\n",
       "Vcells 647389222 4939.2 1669944291 12740.7 2086529069 15919.0"
      ]
     },
     "metadata": {},
     "output_type": "display_data"
    }
   ],
   "source": [
    "#---------------------------------\n",
    "# estimate glove model\n",
    "#---------------------------------\n",
    "\n",
    "# construct the feature co-occurrence matrix for our toks object (see above)\n",
    "toks_fcm <- fcm(toks, \n",
    "                context = \"window\", \n",
    "                window = 6, \n",
    "                count = \"frequency\", \n",
    "                tri = FALSE)\n",
    "gc()\n",
    "\n",
    "# estimate glove model using text2vec\n",
    "glove <- GlobalVectors$new(rank = 300, \n",
    "                           x_max = 10, \n",
    "                           learning_rate = 0.05)\n",
    "\n",
    "wv_main <- glove$fit_transform(toks_fcm, \n",
    "                               n_iter = 1000, \n",
    "                               convergence_tol = 1e-3, \n",
    "                               n_threads = RcppParallel::defaultNumThreads())\n",
    "gc()\n",
    "\n",
    "wv_context <- glove$components\n",
    "local_glove <- wv_main + t(wv_context)  # word vectors\n",
    "\n",
    "gc()\n",
    "\n",
    "saveRDS(local_glove, \"/glove_paper_abstract_80prc.rds\")\n",
    "\n",
    "# qualitative check\n",
    "# find_nns(local_glove[\"fairness\", ], pre_trained = local_glove, N = 5, candidates = feats)\n"
   ]
  },
  {
   "cell_type": "code",
   "execution_count": 5,
   "id": "e2267dc2",
   "metadata": {
    "execution": {
     "iopub.execute_input": "2023-02-25T11:54:52.655718Z",
     "iopub.status.busy": "2023-02-25T11:54:52.654098Z",
     "iopub.status.idle": "2023-02-25T11:55:46.357336Z",
     "shell.execute_reply": "2023-02-25T11:55:46.354821Z"
    },
    "papermill": {
     "duration": 55.518024,
     "end_time": "2023-02-25T11:55:46.360091",
     "exception": false,
     "start_time": "2023-02-25T11:54:50.842067",
     "status": "completed"
    },
    "tags": [],
    "vscode": {
     "languageId": "r"
    }
   },
   "outputs": [],
   "source": [
    "# compute transform weighting = 'log' works well for smaller corpora for large\n",
    "# corpora use a numeric value e.g. weighting = 500 see:\n",
    "# https://arxiv.org/pdf/1805.05388.pdf\n",
    "local_transform <- compute_transform(x = toks_fcm, pre_trained = local_glove, weighting = \"log\")\n",
    "\n",
    "\n",
    "saveRDS(local_transform, \"/local_transform_paper_abstract_80prc.rds\")"
   ]
  }
 ],
 "metadata": {
  "kernelspec": {
   "display_name": "R",
   "language": "R",
   "name": "ir"
  },
  "language_info": {
   "codemirror_mode": "r",
   "file_extension": ".r",
   "mimetype": "text/x-r-source",
   "name": "R",
   "pygments_lexer": "r",
   "version": "4.0.5"
  },
  "papermill": {
   "default_parameters": {},
   "duration": 22026.597815,
   "end_time": "2023-02-25T11:55:50.209450",
   "environment_variables": {},
   "exception": null,
   "input_path": "__notebook__.ipynb",
   "output_path": "__notebook__.ipynb",
   "parameters": {},
   "start_time": "2023-02-25T05:48:43.611635",
   "version": "2.4.0"
  }
 },
 "nbformat": 4,
 "nbformat_minor": 5
}
